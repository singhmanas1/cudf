{
 "cells": [
  {
   "cell_type": "code",
   "execution_count": null,
   "id": "3283ea92-ea9f-44a3-985e-022ee057f4dc",
   "metadata": {},
   "outputs": [],
   "source": [
    "#kaggle dataset-"
   ]
  },
  {
   "cell_type": "code",
   "execution_count": 50,
   "id": "3ed06e31-8e99-446c-b967-6ea1adc133b3",
   "metadata": {},
   "outputs": [],
   "source": [
    "import pandas as pd\n",
    "import sys\n",
    "# Why does it take so much time to import cudf?\n",
    "import cudf\n",
    "import numpy as np"
   ]
  },
  {
   "cell_type": "markdown",
   "id": "80bbce21-c49e-44cb-86c9-c4b4686f6fec",
   "metadata": {},
   "source": [
    "# Loading the transaction data-"
   ]
  },
  {
   "cell_type": "code",
   "execution_count": 51,
   "id": "b4fe125f-cd09-40d2-8ba6-cdeff1fe51cc",
   "metadata": {},
   "outputs": [
    {
     "name": "stdout",
     "output_type": "stream",
     "text": [
      "CPU times: user 4min 33s, sys: 24.3 s, total: 4min 58s\n",
      "Wall time: 4min 51s\n"
     ]
    },
    {
     "data": {
      "text/plain": [
       "58.897970187"
      ]
     },
     "execution_count": 51,
     "metadata": {},
     "output_type": "execute_result"
    }
   ],
   "source": [
    "%%time\n",
    "df = pd.read_csv('/raid/manass/cudf/data/half_transactions.csv')\n",
    "sys.getsizeof(df)/10**9"
   ]
  },
  {
   "cell_type": "code",
   "execution_count": 52,
   "id": "384a5947-0627-4a9b-b189-83cd3c5a1e27",
   "metadata": {},
   "outputs": [
    {
     "data": {
      "text/plain": [
       "(130984859, 13)"
      ]
     },
     "execution_count": 52,
     "metadata": {},
     "output_type": "execute_result"
    }
   ],
   "source": [
    "df.shape"
   ]
  },
  {
   "cell_type": "code",
   "execution_count": 53,
   "id": "6cf4f726-d1f4-45c4-8e39-3e0ffd715c0e",
   "metadata": {},
   "outputs": [
    {
     "data": {
      "text/html": [
       "<div>\n",
       "<style scoped>\n",
       "    .dataframe tbody tr th:only-of-type {\n",
       "        vertical-align: middle;\n",
       "    }\n",
       "\n",
       "    .dataframe tbody tr th {\n",
       "        vertical-align: top;\n",
       "    }\n",
       "\n",
       "    .dataframe thead th {\n",
       "        text-align: right;\n",
       "    }\n",
       "</style>\n",
       "<table border=\"1\" class=\"dataframe\">\n",
       "  <thead>\n",
       "    <tr style=\"text-align: right;\">\n",
       "      <th></th>\n",
       "      <th>Unnamed: 0</th>\n",
       "      <th>CUST_ID</th>\n",
       "      <th>START_DATE</th>\n",
       "      <th>END_DATE</th>\n",
       "      <th>TRANS_ID</th>\n",
       "      <th>DATE</th>\n",
       "      <th>YEAR</th>\n",
       "      <th>MONTH</th>\n",
       "      <th>DAY</th>\n",
       "      <th>EXP_TYPE</th>\n",
       "      <th>AMOUNT</th>\n",
       "      <th>CUST_ID_len</th>\n",
       "      <th>TRANS_ID_len</th>\n",
       "    </tr>\n",
       "  </thead>\n",
       "  <tbody>\n",
       "    <tr>\n",
       "      <th>0</th>\n",
       "      <td>0</td>\n",
       "      <td>CI6XLYUMQK</td>\n",
       "      <td>2015-05-01</td>\n",
       "      <td>NaN</td>\n",
       "      <td>T8I9ZB5A6X90UG8</td>\n",
       "      <td>2015-09-11</td>\n",
       "      <td>2015</td>\n",
       "      <td>9</td>\n",
       "      <td>11</td>\n",
       "      <td>Motor/Travel</td>\n",
       "      <td>20.27</td>\n",
       "      <td>10</td>\n",
       "      <td>15</td>\n",
       "    </tr>\n",
       "    <tr>\n",
       "      <th>1</th>\n",
       "      <td>1</td>\n",
       "      <td>CI6XLYUMQK</td>\n",
       "      <td>2015-05-01</td>\n",
       "      <td>NaN</td>\n",
       "      <td>TZ4JSLS7SC7FO9H</td>\n",
       "      <td>2017-02-08</td>\n",
       "      <td>2017</td>\n",
       "      <td>2</td>\n",
       "      <td>8</td>\n",
       "      <td>Motor/Travel</td>\n",
       "      <td>12.85</td>\n",
       "      <td>10</td>\n",
       "      <td>15</td>\n",
       "    </tr>\n",
       "    <tr>\n",
       "      <th>2</th>\n",
       "      <td>2</td>\n",
       "      <td>CI6XLYUMQK</td>\n",
       "      <td>2015-05-01</td>\n",
       "      <td>NaN</td>\n",
       "      <td>TTUKRDDJ6B6F42H</td>\n",
       "      <td>2015-08-01</td>\n",
       "      <td>2015</td>\n",
       "      <td>8</td>\n",
       "      <td>1</td>\n",
       "      <td>Housing</td>\n",
       "      <td>383.80</td>\n",
       "      <td>10</td>\n",
       "      <td>15</td>\n",
       "    </tr>\n",
       "    <tr>\n",
       "      <th>3</th>\n",
       "      <td>3</td>\n",
       "      <td>CI6XLYUMQK</td>\n",
       "      <td>2015-05-01</td>\n",
       "      <td>NaN</td>\n",
       "      <td>TDUHFRUKGPPI6HD</td>\n",
       "      <td>2019-03-16</td>\n",
       "      <td>2019</td>\n",
       "      <td>3</td>\n",
       "      <td>16</td>\n",
       "      <td>Entertainment</td>\n",
       "      <td>5.72</td>\n",
       "      <td>10</td>\n",
       "      <td>15</td>\n",
       "    </tr>\n",
       "    <tr>\n",
       "      <th>4</th>\n",
       "      <td>4</td>\n",
       "      <td>CI6XLYUMQK</td>\n",
       "      <td>2015-05-01</td>\n",
       "      <td>NaN</td>\n",
       "      <td>T0JBZHBMSVRFMMD</td>\n",
       "      <td>2015-05-15</td>\n",
       "      <td>2015</td>\n",
       "      <td>5</td>\n",
       "      <td>15</td>\n",
       "      <td>Entertainment</td>\n",
       "      <td>11.06</td>\n",
       "      <td>10</td>\n",
       "      <td>15</td>\n",
       "    </tr>\n",
       "  </tbody>\n",
       "</table>\n",
       "</div>"
      ],
      "text/plain": [
       "   Unnamed: 0     CUST_ID  START_DATE END_DATE         TRANS_ID        DATE  \\\n",
       "0           0  CI6XLYUMQK  2015-05-01      NaN  T8I9ZB5A6X90UG8  2015-09-11   \n",
       "1           1  CI6XLYUMQK  2015-05-01      NaN  TZ4JSLS7SC7FO9H  2017-02-08   \n",
       "2           2  CI6XLYUMQK  2015-05-01      NaN  TTUKRDDJ6B6F42H  2015-08-01   \n",
       "3           3  CI6XLYUMQK  2015-05-01      NaN  TDUHFRUKGPPI6HD  2019-03-16   \n",
       "4           4  CI6XLYUMQK  2015-05-01      NaN  T0JBZHBMSVRFMMD  2015-05-15   \n",
       "\n",
       "   YEAR  MONTH  DAY       EXP_TYPE  AMOUNT  CUST_ID_len  TRANS_ID_len  \n",
       "0  2015      9   11   Motor/Travel   20.27           10            15  \n",
       "1  2017      2    8   Motor/Travel   12.85           10            15  \n",
       "2  2015      8    1        Housing  383.80           10            15  \n",
       "3  2019      3   16  Entertainment    5.72           10            15  \n",
       "4  2015      5   15  Entertainment   11.06           10            15  "
      ]
     },
     "execution_count": 53,
     "metadata": {},
     "output_type": "execute_result"
    }
   ],
   "source": [
    "df.head()"
   ]
  },
  {
   "cell_type": "markdown",
   "id": "c3076ddd-3572-4ebf-ba28-78f3f3a89c53",
   "metadata": {},
   "source": [
    "# Create a customer dataset with age and income level-"
   ]
  },
  {
   "cell_type": "code",
   "execution_count": 54,
   "id": "3817e08f-d4e4-4440-8ff0-b468082ca2e1",
   "metadata": {},
   "outputs": [
    {
     "name": "stdout",
     "output_type": "stream",
     "text": [
      "CPU times: user 4.52 s, sys: 0 ns, total: 4.52 s\n",
      "Wall time: 4.41 s\n"
     ]
    }
   ],
   "source": [
    "%%time\n",
    "df_customer = pd.DataFrame()\n",
    "df_customer['CUST_ID'] = df['CUST_ID'].unique()"
   ]
  },
  {
   "cell_type": "code",
   "execution_count": 55,
   "id": "db9a6489-dea2-4287-ad33-c3a7f0a5a90f",
   "metadata": {},
   "outputs": [
    {
     "name": "stdout",
     "output_type": "stream",
     "text": [
      "CPU times: user 8.16 ms, sys: 0 ns, total: 8.16 ms\n",
      "Wall time: 6.94 ms\n"
     ]
    }
   ],
   "source": [
    "%%time\n",
    "income_levels = ['Less than 10K', 'Between 10K and 25K', 'Greater than 25K', 'Between 25K and 100K','Greater than 100K']\n",
    "df_customer['age'] = np.random.randint(18, 81, size=len(df_customer))\n",
    "df_customer['Income Level'] = np.random.choice(income_levels, size=len(df_customer))"
   ]
  },
  {
   "cell_type": "code",
   "execution_count": 56,
   "id": "7a782ef1-2a34-43de-a34a-6b65e1a43399",
   "metadata": {},
   "outputs": [
    {
     "data": {
      "text/plain": [
       "((35921, 3), Index(['CUST_ID', 'age', 'Income Level'], dtype='object'))"
      ]
     },
     "execution_count": 56,
     "metadata": {},
     "output_type": "execute_result"
    }
   ],
   "source": [
    "df_customer.shape, df_customer.columns"
   ]
  },
  {
   "cell_type": "markdown",
   "id": "6f9258a3-12b3-43a5-ab7c-1ae8bcc6345d",
   "metadata": {},
   "source": [
    "# Merge df_customer with df"
   ]
  },
  {
   "cell_type": "code",
   "execution_count": 57,
   "id": "11e880f1-17b0-469b-8151-ef8b02de58ed",
   "metadata": {},
   "outputs": [
    {
     "name": "stdout",
     "output_type": "stream",
     "text": [
      "CPU times: user 17 s, sys: 0 ns, total: 17 s\n",
      "Wall time: 16.6 s\n"
     ]
    }
   ],
   "source": [
    "%%time\n",
    "df_cust_transactions = pd.merge(df,df_customer, on = 'CUST_ID', how = 'left')"
   ]
  },
  {
   "cell_type": "code",
   "execution_count": 58,
   "id": "1266330c-d7a1-4cfa-84bb-8794d71f761b",
   "metadata": {},
   "outputs": [
    {
     "data": {
      "text/html": [
       "<div>\n",
       "<style scoped>\n",
       "    .dataframe tbody tr th:only-of-type {\n",
       "        vertical-align: middle;\n",
       "    }\n",
       "\n",
       "    .dataframe tbody tr th {\n",
       "        vertical-align: top;\n",
       "    }\n",
       "\n",
       "    .dataframe thead th {\n",
       "        text-align: right;\n",
       "    }\n",
       "</style>\n",
       "<table border=\"1\" class=\"dataframe\">\n",
       "  <thead>\n",
       "    <tr style=\"text-align: right;\">\n",
       "      <th></th>\n",
       "      <th>Unnamed: 0</th>\n",
       "      <th>CUST_ID</th>\n",
       "      <th>START_DATE</th>\n",
       "      <th>END_DATE</th>\n",
       "      <th>TRANS_ID</th>\n",
       "      <th>DATE</th>\n",
       "      <th>YEAR</th>\n",
       "      <th>MONTH</th>\n",
       "      <th>DAY</th>\n",
       "      <th>EXP_TYPE</th>\n",
       "      <th>AMOUNT</th>\n",
       "      <th>CUST_ID_len</th>\n",
       "      <th>TRANS_ID_len</th>\n",
       "      <th>age</th>\n",
       "      <th>Income Level</th>\n",
       "    </tr>\n",
       "  </thead>\n",
       "  <tbody>\n",
       "    <tr>\n",
       "      <th>0</th>\n",
       "      <td>0</td>\n",
       "      <td>CI6XLYUMQK</td>\n",
       "      <td>2015-05-01</td>\n",
       "      <td>NaN</td>\n",
       "      <td>T8I9ZB5A6X90UG8</td>\n",
       "      <td>2015-09-11</td>\n",
       "      <td>2015</td>\n",
       "      <td>9</td>\n",
       "      <td>11</td>\n",
       "      <td>Motor/Travel</td>\n",
       "      <td>20.27</td>\n",
       "      <td>10</td>\n",
       "      <td>15</td>\n",
       "      <td>40</td>\n",
       "      <td>Greater than 100K</td>\n",
       "    </tr>\n",
       "    <tr>\n",
       "      <th>1</th>\n",
       "      <td>1</td>\n",
       "      <td>CI6XLYUMQK</td>\n",
       "      <td>2015-05-01</td>\n",
       "      <td>NaN</td>\n",
       "      <td>TZ4JSLS7SC7FO9H</td>\n",
       "      <td>2017-02-08</td>\n",
       "      <td>2017</td>\n",
       "      <td>2</td>\n",
       "      <td>8</td>\n",
       "      <td>Motor/Travel</td>\n",
       "      <td>12.85</td>\n",
       "      <td>10</td>\n",
       "      <td>15</td>\n",
       "      <td>40</td>\n",
       "      <td>Greater than 100K</td>\n",
       "    </tr>\n",
       "    <tr>\n",
       "      <th>2</th>\n",
       "      <td>2</td>\n",
       "      <td>CI6XLYUMQK</td>\n",
       "      <td>2015-05-01</td>\n",
       "      <td>NaN</td>\n",
       "      <td>TTUKRDDJ6B6F42H</td>\n",
       "      <td>2015-08-01</td>\n",
       "      <td>2015</td>\n",
       "      <td>8</td>\n",
       "      <td>1</td>\n",
       "      <td>Housing</td>\n",
       "      <td>383.80</td>\n",
       "      <td>10</td>\n",
       "      <td>15</td>\n",
       "      <td>40</td>\n",
       "      <td>Greater than 100K</td>\n",
       "    </tr>\n",
       "    <tr>\n",
       "      <th>3</th>\n",
       "      <td>3</td>\n",
       "      <td>CI6XLYUMQK</td>\n",
       "      <td>2015-05-01</td>\n",
       "      <td>NaN</td>\n",
       "      <td>TDUHFRUKGPPI6HD</td>\n",
       "      <td>2019-03-16</td>\n",
       "      <td>2019</td>\n",
       "      <td>3</td>\n",
       "      <td>16</td>\n",
       "      <td>Entertainment</td>\n",
       "      <td>5.72</td>\n",
       "      <td>10</td>\n",
       "      <td>15</td>\n",
       "      <td>40</td>\n",
       "      <td>Greater than 100K</td>\n",
       "    </tr>\n",
       "    <tr>\n",
       "      <th>4</th>\n",
       "      <td>4</td>\n",
       "      <td>CI6XLYUMQK</td>\n",
       "      <td>2015-05-01</td>\n",
       "      <td>NaN</td>\n",
       "      <td>T0JBZHBMSVRFMMD</td>\n",
       "      <td>2015-05-15</td>\n",
       "      <td>2015</td>\n",
       "      <td>5</td>\n",
       "      <td>15</td>\n",
       "      <td>Entertainment</td>\n",
       "      <td>11.06</td>\n",
       "      <td>10</td>\n",
       "      <td>15</td>\n",
       "      <td>40</td>\n",
       "      <td>Greater than 100K</td>\n",
       "    </tr>\n",
       "  </tbody>\n",
       "</table>\n",
       "</div>"
      ],
      "text/plain": [
       "   Unnamed: 0     CUST_ID  START_DATE END_DATE         TRANS_ID        DATE  \\\n",
       "0           0  CI6XLYUMQK  2015-05-01      NaN  T8I9ZB5A6X90UG8  2015-09-11   \n",
       "1           1  CI6XLYUMQK  2015-05-01      NaN  TZ4JSLS7SC7FO9H  2017-02-08   \n",
       "2           2  CI6XLYUMQK  2015-05-01      NaN  TTUKRDDJ6B6F42H  2015-08-01   \n",
       "3           3  CI6XLYUMQK  2015-05-01      NaN  TDUHFRUKGPPI6HD  2019-03-16   \n",
       "4           4  CI6XLYUMQK  2015-05-01      NaN  T0JBZHBMSVRFMMD  2015-05-15   \n",
       "\n",
       "   YEAR  MONTH  DAY       EXP_TYPE  AMOUNT  CUST_ID_len  TRANS_ID_len  age  \\\n",
       "0  2015      9   11   Motor/Travel   20.27           10            15   40   \n",
       "1  2017      2    8   Motor/Travel   12.85           10            15   40   \n",
       "2  2015      8    1        Housing  383.80           10            15   40   \n",
       "3  2019      3   16  Entertainment    5.72           10            15   40   \n",
       "4  2015      5   15  Entertainment   11.06           10            15   40   \n",
       "\n",
       "        Income Level  \n",
       "0  Greater than 100K  \n",
       "1  Greater than 100K  \n",
       "2  Greater than 100K  \n",
       "3  Greater than 100K  \n",
       "4  Greater than 100K  "
      ]
     },
     "execution_count": 58,
     "metadata": {},
     "output_type": "execute_result"
    }
   ],
   "source": [
    "df_cust_transactions.head()"
   ]
  },
  {
   "cell_type": "code",
   "execution_count": 59,
   "id": "b6a88cea-5b64-4feb-ad21-291ddf456c8d",
   "metadata": {},
   "outputs": [],
   "source": [
    "# Remove all the non-numeric values from AMOUNT column-"
   ]
  },
  {
   "cell_type": "markdown",
   "id": "a6956231-ebd7-4465-a115-d9f3152375ea",
   "metadata": {},
   "source": [
    "# INSIGHT: Each change costs so much time and mental energy if the processing is slow-"
   ]
  },
  {
   "cell_type": "code",
   "execution_count": 60,
   "id": "51111361-1dce-43de-8a25-5bca0611c2af",
   "metadata": {},
   "outputs": [
    {
     "name": "stdout",
     "output_type": "stream",
     "text": [
      "CPU times: user 17.3 s, sys: 10.6 s, total: 27.9 s\n",
      "Wall time: 27.3 s\n"
     ]
    }
   ],
   "source": [
    "%%time\n",
    "df_cust_transactions = df_cust_transactions[pd.to_numeric(df_cust_transactions['AMOUNT'], errors='coerce').notna()]"
   ]
  },
  {
   "cell_type": "markdown",
   "id": "5293949c-948f-4487-9a6b-0b939e551c0f",
   "metadata": {},
   "source": [
    "# Time to filter-"
   ]
  },
  {
   "cell_type": "code",
   "execution_count": 61,
   "id": "3957ff77-59be-49fc-a0ba-873373986a8d",
   "metadata": {},
   "outputs": [
    {
     "name": "stdout",
     "output_type": "stream",
     "text": [
      "CPU times: user 9.56 s, sys: 0 ns, total: 9.56 s\n",
      "Wall time: 9.3 s\n"
     ]
    },
    {
     "data": {
      "text/html": [
       "<div>\n",
       "<style scoped>\n",
       "    .dataframe tbody tr th:only-of-type {\n",
       "        vertical-align: middle;\n",
       "    }\n",
       "\n",
       "    .dataframe tbody tr th {\n",
       "        vertical-align: top;\n",
       "    }\n",
       "\n",
       "    .dataframe thead th {\n",
       "        text-align: right;\n",
       "    }\n",
       "</style>\n",
       "<table border=\"1\" class=\"dataframe\">\n",
       "  <thead>\n",
       "    <tr style=\"text-align: right;\">\n",
       "      <th></th>\n",
       "      <th>Unnamed: 0</th>\n",
       "      <th>CUST_ID</th>\n",
       "      <th>START_DATE</th>\n",
       "      <th>END_DATE</th>\n",
       "      <th>TRANS_ID</th>\n",
       "      <th>DATE</th>\n",
       "      <th>YEAR</th>\n",
       "      <th>MONTH</th>\n",
       "      <th>DAY</th>\n",
       "      <th>EXP_TYPE</th>\n",
       "      <th>AMOUNT</th>\n",
       "      <th>CUST_ID_len</th>\n",
       "      <th>TRANS_ID_len</th>\n",
       "      <th>age</th>\n",
       "      <th>Income Level</th>\n",
       "    </tr>\n",
       "  </thead>\n",
       "  <tbody>\n",
       "    <tr>\n",
       "      <th>8</th>\n",
       "      <td>8</td>\n",
       "      <td>CI6XLYUMQK</td>\n",
       "      <td>2015-05-01</td>\n",
       "      <td>NaN</td>\n",
       "      <td>TQJ3BTAB7E449ZN</td>\n",
       "      <td>2018-12-23</td>\n",
       "      <td>2018</td>\n",
       "      <td>12</td>\n",
       "      <td>23</td>\n",
       "      <td>Groceries</td>\n",
       "      <td>26.77</td>\n",
       "      <td>10</td>\n",
       "      <td>15</td>\n",
       "      <td>40</td>\n",
       "      <td>Greater than 100K</td>\n",
       "    </tr>\n",
       "    <tr>\n",
       "      <th>10</th>\n",
       "      <td>10</td>\n",
       "      <td>CI6XLYUMQK</td>\n",
       "      <td>2015-05-01</td>\n",
       "      <td>NaN</td>\n",
       "      <td>TEDY6MR01ELTHWY</td>\n",
       "      <td>2018-02-25</td>\n",
       "      <td>2018</td>\n",
       "      <td>2</td>\n",
       "      <td>25</td>\n",
       "      <td>Groceries</td>\n",
       "      <td>9.27</td>\n",
       "      <td>10</td>\n",
       "      <td>15</td>\n",
       "      <td>40</td>\n",
       "      <td>Greater than 100K</td>\n",
       "    </tr>\n",
       "    <tr>\n",
       "      <th>11</th>\n",
       "      <td>11</td>\n",
       "      <td>CI6XLYUMQK</td>\n",
       "      <td>2015-05-01</td>\n",
       "      <td>NaN</td>\n",
       "      <td>TRUQRD6ME4A13I0</td>\n",
       "      <td>2019-04-15</td>\n",
       "      <td>2019</td>\n",
       "      <td>4</td>\n",
       "      <td>15</td>\n",
       "      <td>Groceries</td>\n",
       "      <td>8.97</td>\n",
       "      <td>10</td>\n",
       "      <td>15</td>\n",
       "      <td>40</td>\n",
       "      <td>Greater than 100K</td>\n",
       "    </tr>\n",
       "    <tr>\n",
       "      <th>13</th>\n",
       "      <td>13</td>\n",
       "      <td>CI6XLYUMQK</td>\n",
       "      <td>2015-05-01</td>\n",
       "      <td>NaN</td>\n",
       "      <td>T8DBBZQXIR0X93O</td>\n",
       "      <td>2015-06-14</td>\n",
       "      <td>2015</td>\n",
       "      <td>6</td>\n",
       "      <td>14</td>\n",
       "      <td>Groceries</td>\n",
       "      <td>8.24</td>\n",
       "      <td>10</td>\n",
       "      <td>15</td>\n",
       "      <td>40</td>\n",
       "      <td>Greater than 100K</td>\n",
       "    </tr>\n",
       "    <tr>\n",
       "      <th>15</th>\n",
       "      <td>15</td>\n",
       "      <td>CI6XLYUMQK</td>\n",
       "      <td>2015-05-01</td>\n",
       "      <td>NaN</td>\n",
       "      <td>T0TGOW0T3504WJ3</td>\n",
       "      <td>2020-05-06</td>\n",
       "      <td>2020</td>\n",
       "      <td>5</td>\n",
       "      <td>6</td>\n",
       "      <td>Groceries</td>\n",
       "      <td>17.44</td>\n",
       "      <td>10</td>\n",
       "      <td>15</td>\n",
       "      <td>40</td>\n",
       "      <td>Greater than 100K</td>\n",
       "    </tr>\n",
       "    <tr>\n",
       "      <th>...</th>\n",
       "      <td>...</td>\n",
       "      <td>...</td>\n",
       "      <td>...</td>\n",
       "      <td>...</td>\n",
       "      <td>...</td>\n",
       "      <td>...</td>\n",
       "      <td>...</td>\n",
       "      <td>...</td>\n",
       "      <td>...</td>\n",
       "      <td>...</td>\n",
       "      <td>...</td>\n",
       "      <td>...</td>\n",
       "      <td>...</td>\n",
       "      <td>...</td>\n",
       "      <td>...</td>\n",
       "    </tr>\n",
       "    <tr>\n",
       "      <th>130984839</th>\n",
       "      <td>130984839</td>\n",
       "      <td>C80JX019HW</td>\n",
       "      <td>2016-12-01</td>\n",
       "      <td>NaN</td>\n",
       "      <td>TQ32ZJAAO2MDS42</td>\n",
       "      <td>2020-05-06</td>\n",
       "      <td>2020</td>\n",
       "      <td>5</td>\n",
       "      <td>6</td>\n",
       "      <td>Groceries</td>\n",
       "      <td>147.16</td>\n",
       "      <td>10</td>\n",
       "      <td>15</td>\n",
       "      <td>24</td>\n",
       "      <td>Greater than 25K</td>\n",
       "    </tr>\n",
       "    <tr>\n",
       "      <th>130984848</th>\n",
       "      <td>130984848</td>\n",
       "      <td>C80JX019HW</td>\n",
       "      <td>2016-12-01</td>\n",
       "      <td>NaN</td>\n",
       "      <td>THBH6J8YE1SDC4I</td>\n",
       "      <td>2019-02-04</td>\n",
       "      <td>2019</td>\n",
       "      <td>2</td>\n",
       "      <td>4</td>\n",
       "      <td>Groceries</td>\n",
       "      <td>197.36</td>\n",
       "      <td>10</td>\n",
       "      <td>15</td>\n",
       "      <td>24</td>\n",
       "      <td>Greater than 25K</td>\n",
       "    </tr>\n",
       "    <tr>\n",
       "      <th>130984851</th>\n",
       "      <td>130984851</td>\n",
       "      <td>C80JX019HW</td>\n",
       "      <td>2016-12-01</td>\n",
       "      <td>NaN</td>\n",
       "      <td>THGL384VF12IKED</td>\n",
       "      <td>2020-04-27</td>\n",
       "      <td>2020</td>\n",
       "      <td>4</td>\n",
       "      <td>27</td>\n",
       "      <td>Groceries</td>\n",
       "      <td>177.02</td>\n",
       "      <td>10</td>\n",
       "      <td>15</td>\n",
       "      <td>24</td>\n",
       "      <td>Greater than 25K</td>\n",
       "    </tr>\n",
       "    <tr>\n",
       "      <th>130984853</th>\n",
       "      <td>130984853</td>\n",
       "      <td>C80JX019HW</td>\n",
       "      <td>2016-12-01</td>\n",
       "      <td>NaN</td>\n",
       "      <td>TUZY62U9QF6AP3U</td>\n",
       "      <td>2019-04-24</td>\n",
       "      <td>2019</td>\n",
       "      <td>4</td>\n",
       "      <td>24</td>\n",
       "      <td>Groceries</td>\n",
       "      <td>130.32</td>\n",
       "      <td>10</td>\n",
       "      <td>15</td>\n",
       "      <td>24</td>\n",
       "      <td>Greater than 25K</td>\n",
       "    </tr>\n",
       "    <tr>\n",
       "      <th>130984854</th>\n",
       "      <td>130984854</td>\n",
       "      <td>C80JX019HW</td>\n",
       "      <td>2016-12-01</td>\n",
       "      <td>NaN</td>\n",
       "      <td>TJ2BR92W0MK7DA1</td>\n",
       "      <td>2017-03-23</td>\n",
       "      <td>2017</td>\n",
       "      <td>3</td>\n",
       "      <td>23</td>\n",
       "      <td>Groceries</td>\n",
       "      <td>111.12</td>\n",
       "      <td>10</td>\n",
       "      <td>15</td>\n",
       "      <td>24</td>\n",
       "      <td>Greater than 25K</td>\n",
       "    </tr>\n",
       "  </tbody>\n",
       "</table>\n",
       "<p>21710768 rows × 15 columns</p>\n",
       "</div>"
      ],
      "text/plain": [
       "           Unnamed: 0     CUST_ID  START_DATE END_DATE         TRANS_ID  \\\n",
       "8                   8  CI6XLYUMQK  2015-05-01      NaN  TQJ3BTAB7E449ZN   \n",
       "10                 10  CI6XLYUMQK  2015-05-01      NaN  TEDY6MR01ELTHWY   \n",
       "11                 11  CI6XLYUMQK  2015-05-01      NaN  TRUQRD6ME4A13I0   \n",
       "13                 13  CI6XLYUMQK  2015-05-01      NaN  T8DBBZQXIR0X93O   \n",
       "15                 15  CI6XLYUMQK  2015-05-01      NaN  T0TGOW0T3504WJ3   \n",
       "...               ...         ...         ...      ...              ...   \n",
       "130984839   130984839  C80JX019HW  2016-12-01      NaN  TQ32ZJAAO2MDS42   \n",
       "130984848   130984848  C80JX019HW  2016-12-01      NaN  THBH6J8YE1SDC4I   \n",
       "130984851   130984851  C80JX019HW  2016-12-01      NaN  THGL384VF12IKED   \n",
       "130984853   130984853  C80JX019HW  2016-12-01      NaN  TUZY62U9QF6AP3U   \n",
       "130984854   130984854  C80JX019HW  2016-12-01      NaN  TJ2BR92W0MK7DA1   \n",
       "\n",
       "                 DATE  YEAR  MONTH  DAY   EXP_TYPE  AMOUNT  CUST_ID_len  \\\n",
       "8          2018-12-23  2018     12   23  Groceries   26.77           10   \n",
       "10         2018-02-25  2018      2   25  Groceries    9.27           10   \n",
       "11         2019-04-15  2019      4   15  Groceries    8.97           10   \n",
       "13         2015-06-14  2015      6   14  Groceries    8.24           10   \n",
       "15         2020-05-06  2020      5    6  Groceries   17.44           10   \n",
       "...               ...   ...    ...  ...        ...     ...          ...   \n",
       "130984839  2020-05-06  2020      5    6  Groceries  147.16           10   \n",
       "130984848  2019-02-04  2019      2    4  Groceries  197.36           10   \n",
       "130984851  2020-04-27  2020      4   27  Groceries  177.02           10   \n",
       "130984853  2019-04-24  2019      4   24  Groceries  130.32           10   \n",
       "130984854  2017-03-23  2017      3   23  Groceries  111.12           10   \n",
       "\n",
       "           TRANS_ID_len  age       Income Level  \n",
       "8                    15   40  Greater than 100K  \n",
       "10                   15   40  Greater than 100K  \n",
       "11                   15   40  Greater than 100K  \n",
       "13                   15   40  Greater than 100K  \n",
       "15                   15   40  Greater than 100K  \n",
       "...                 ...  ...                ...  \n",
       "130984839            15   24   Greater than 25K  \n",
       "130984848            15   24   Greater than 25K  \n",
       "130984851            15   24   Greater than 25K  \n",
       "130984853            15   24   Greater than 25K  \n",
       "130984854            15   24   Greater than 25K  \n",
       "\n",
       "[21710768 rows x 15 columns]"
      ]
     },
     "execution_count": 61,
     "metadata": {},
     "output_type": "execute_result"
    }
   ],
   "source": [
    "%%time\n",
    "df_cust_transactions[df_cust_transactions['EXP_TYPE'] == 'Groceries']"
   ]
  },
  {
   "cell_type": "code",
   "execution_count": 62,
   "id": "83ddb83b-a04d-4f07-8436-db7ad819eddf",
   "metadata": {},
   "outputs": [],
   "source": [
    "# For each age and income level what is the mean expenditure per customer per transaction"
   ]
  },
  {
   "cell_type": "markdown",
   "id": "d449ecc4-21ba-4f3f-a847-bfb6e99a610f",
   "metadata": {},
   "source": [
    "# INSIGHT: Debugging takes a longer time- (1 minute wait before I knew I there was a string entry in the age column) -"
   ]
  },
  {
   "cell_type": "code",
   "execution_count": 63,
   "id": "111ea697-1d50-49b3-a81d-8080d67387a6",
   "metadata": {},
   "outputs": [
    {
     "data": {
      "text/plain": [
       "Index(['Unnamed: 0', 'CUST_ID', 'START_DATE', 'END_DATE', 'TRANS_ID', 'DATE',\n",
       "       'YEAR', 'MONTH', 'DAY', 'EXP_TYPE', 'AMOUNT', 'CUST_ID_len',\n",
       "       'TRANS_ID_len', 'age', 'Income Level'],\n",
       "      dtype='object')"
      ]
     },
     "execution_count": 63,
     "metadata": {},
     "output_type": "execute_result"
    }
   ],
   "source": [
    "df_cust_transactions.columns"
   ]
  },
  {
   "cell_type": "code",
   "execution_count": 64,
   "id": "fb335938-9060-4517-80e3-d66edf1e7456",
   "metadata": {},
   "outputs": [
    {
     "name": "stdout",
     "output_type": "stream",
     "text": [
      "CPU times: user 19.3 s, sys: 6.23 s, total: 25.5 s\n",
      "Wall time: 25 s\n"
     ]
    },
    {
     "data": {
      "text/html": [
       "<div>\n",
       "<style scoped>\n",
       "    .dataframe tbody tr th:only-of-type {\n",
       "        vertical-align: middle;\n",
       "    }\n",
       "\n",
       "    .dataframe tbody tr th {\n",
       "        vertical-align: top;\n",
       "    }\n",
       "\n",
       "    .dataframe thead th {\n",
       "        text-align: right;\n",
       "    }\n",
       "</style>\n",
       "<table border=\"1\" class=\"dataframe\">\n",
       "  <thead>\n",
       "    <tr style=\"text-align: right;\">\n",
       "      <th></th>\n",
       "      <th></th>\n",
       "      <th></th>\n",
       "      <th>Unnamed: 0</th>\n",
       "      <th>YEAR</th>\n",
       "      <th>MONTH</th>\n",
       "      <th>DAY</th>\n",
       "      <th>AMOUNT</th>\n",
       "      <th>CUST_ID_len</th>\n",
       "      <th>TRANS_ID_len</th>\n",
       "    </tr>\n",
       "    <tr>\n",
       "      <th>EXP_TYPE</th>\n",
       "      <th>age</th>\n",
       "      <th>Income Level</th>\n",
       "      <th></th>\n",
       "      <th></th>\n",
       "      <th></th>\n",
       "      <th></th>\n",
       "      <th></th>\n",
       "      <th></th>\n",
       "      <th></th>\n",
       "    </tr>\n",
       "  </thead>\n",
       "  <tbody>\n",
       "    <tr>\n",
       "      <th rowspan=\"5\" valign=\"top\">Bills and Utilities</th>\n",
       "      <th rowspan=\"5\" valign=\"top\">18</th>\n",
       "      <th>Between 10K and 25K</th>\n",
       "      <td>6.567805e+07</td>\n",
       "      <td>2016.274627</td>\n",
       "      <td>6.619248</td>\n",
       "      <td>10.879051</td>\n",
       "      <td>267.081043</td>\n",
       "      <td>10.0</td>\n",
       "      <td>15.0</td>\n",
       "    </tr>\n",
       "    <tr>\n",
       "      <th>Between 25K and 100K</th>\n",
       "      <td>6.234058e+07</td>\n",
       "      <td>2016.516408</td>\n",
       "      <td>6.618700</td>\n",
       "      <td>10.498194</td>\n",
       "      <td>268.372670</td>\n",
       "      <td>10.0</td>\n",
       "      <td>15.0</td>\n",
       "    </tr>\n",
       "    <tr>\n",
       "      <th>Greater than 100K</th>\n",
       "      <td>6.947977e+07</td>\n",
       "      <td>2016.198667</td>\n",
       "      <td>6.592023</td>\n",
       "      <td>10.664600</td>\n",
       "      <td>279.192840</td>\n",
       "      <td>10.0</td>\n",
       "      <td>15.0</td>\n",
       "    </tr>\n",
       "    <tr>\n",
       "      <th>Greater than 25K</th>\n",
       "      <td>6.165267e+07</td>\n",
       "      <td>2016.462734</td>\n",
       "      <td>6.635408</td>\n",
       "      <td>10.598253</td>\n",
       "      <td>252.665610</td>\n",
       "      <td>10.0</td>\n",
       "      <td>15.0</td>\n",
       "    </tr>\n",
       "    <tr>\n",
       "      <th>Less than 10K</th>\n",
       "      <td>6.654085e+07</td>\n",
       "      <td>2016.157385</td>\n",
       "      <td>6.605620</td>\n",
       "      <td>10.469367</td>\n",
       "      <td>274.045225</td>\n",
       "      <td>10.0</td>\n",
       "      <td>15.0</td>\n",
       "    </tr>\n",
       "    <tr>\n",
       "      <th>...</th>\n",
       "      <th>...</th>\n",
       "      <th>...</th>\n",
       "      <td>...</td>\n",
       "      <td>...</td>\n",
       "      <td>...</td>\n",
       "      <td>...</td>\n",
       "      <td>...</td>\n",
       "      <td>...</td>\n",
       "      <td>...</td>\n",
       "    </tr>\n",
       "    <tr>\n",
       "      <th rowspan=\"5\" valign=\"top\">Tax</th>\n",
       "      <th rowspan=\"5\" valign=\"top\">80</th>\n",
       "      <th>Between 10K and 25K</th>\n",
       "      <td>6.725035e+07</td>\n",
       "      <td>2016.061571</td>\n",
       "      <td>6.598726</td>\n",
       "      <td>5.053432</td>\n",
       "      <td>583.445858</td>\n",
       "      <td>10.0</td>\n",
       "      <td>15.0</td>\n",
       "    </tr>\n",
       "    <tr>\n",
       "      <th>Between 25K and 100K</th>\n",
       "      <td>6.120094e+07</td>\n",
       "      <td>2016.609736</td>\n",
       "      <td>6.623584</td>\n",
       "      <td>5.553504</td>\n",
       "      <td>541.335323</td>\n",
       "      <td>10.0</td>\n",
       "      <td>15.0</td>\n",
       "    </tr>\n",
       "    <tr>\n",
       "      <th>Greater than 100K</th>\n",
       "      <td>6.754168e+07</td>\n",
       "      <td>2016.030068</td>\n",
       "      <td>6.574617</td>\n",
       "      <td>5.513374</td>\n",
       "      <td>621.696903</td>\n",
       "      <td>10.0</td>\n",
       "      <td>15.0</td>\n",
       "    </tr>\n",
       "    <tr>\n",
       "      <th>Greater than 25K</th>\n",
       "      <td>6.704178e+07</td>\n",
       "      <td>2016.133015</td>\n",
       "      <td>6.605442</td>\n",
       "      <td>5.742220</td>\n",
       "      <td>626.225735</td>\n",
       "      <td>10.0</td>\n",
       "      <td>15.0</td>\n",
       "    </tr>\n",
       "    <tr>\n",
       "      <th>Less than 10K</th>\n",
       "      <td>6.237858e+07</td>\n",
       "      <td>2015.804639</td>\n",
       "      <td>6.569845</td>\n",
       "      <td>5.299227</td>\n",
       "      <td>601.830402</td>\n",
       "      <td>10.0</td>\n",
       "      <td>15.0</td>\n",
       "    </tr>\n",
       "  </tbody>\n",
       "</table>\n",
       "<p>3780 rows × 7 columns</p>\n",
       "</div>"
      ],
      "text/plain": [
       "                                                Unnamed: 0         YEAR  \\\n",
       "EXP_TYPE            age Income Level                                      \n",
       "Bills and Utilities 18  Between 10K and 25K   6.567805e+07  2016.274627   \n",
       "                        Between 25K and 100K  6.234058e+07  2016.516408   \n",
       "                        Greater than 100K     6.947977e+07  2016.198667   \n",
       "                        Greater than 25K      6.165267e+07  2016.462734   \n",
       "                        Less than 10K         6.654085e+07  2016.157385   \n",
       "...                                                    ...          ...   \n",
       "Tax                 80  Between 10K and 25K   6.725035e+07  2016.061571   \n",
       "                        Between 25K and 100K  6.120094e+07  2016.609736   \n",
       "                        Greater than 100K     6.754168e+07  2016.030068   \n",
       "                        Greater than 25K      6.704178e+07  2016.133015   \n",
       "                        Less than 10K         6.237858e+07  2015.804639   \n",
       "\n",
       "                                                 MONTH        DAY      AMOUNT  \\\n",
       "EXP_TYPE            age Income Level                                            \n",
       "Bills and Utilities 18  Between 10K and 25K   6.619248  10.879051  267.081043   \n",
       "                        Between 25K and 100K  6.618700  10.498194  268.372670   \n",
       "                        Greater than 100K     6.592023  10.664600  279.192840   \n",
       "                        Greater than 25K      6.635408  10.598253  252.665610   \n",
       "                        Less than 10K         6.605620  10.469367  274.045225   \n",
       "...                                                ...        ...         ...   \n",
       "Tax                 80  Between 10K and 25K   6.598726   5.053432  583.445858   \n",
       "                        Between 25K and 100K  6.623584   5.553504  541.335323   \n",
       "                        Greater than 100K     6.574617   5.513374  621.696903   \n",
       "                        Greater than 25K      6.605442   5.742220  626.225735   \n",
       "                        Less than 10K         6.569845   5.299227  601.830402   \n",
       "\n",
       "                                              CUST_ID_len  TRANS_ID_len  \n",
       "EXP_TYPE            age Income Level                                     \n",
       "Bills and Utilities 18  Between 10K and 25K          10.0          15.0  \n",
       "                        Between 25K and 100K         10.0          15.0  \n",
       "                        Greater than 100K            10.0          15.0  \n",
       "                        Greater than 25K             10.0          15.0  \n",
       "                        Less than 10K                10.0          15.0  \n",
       "...                                                   ...           ...  \n",
       "Tax                 80  Between 10K and 25K          10.0          15.0  \n",
       "                        Between 25K and 100K         10.0          15.0  \n",
       "                        Greater than 100K            10.0          15.0  \n",
       "                        Greater than 25K             10.0          15.0  \n",
       "                        Less than 10K                10.0          15.0  \n",
       "\n",
       "[3780 rows x 7 columns]"
      ]
     },
     "execution_count": 64,
     "metadata": {},
     "output_type": "execute_result"
    }
   ],
   "source": [
    "%%time\n",
    "df_cust_transactions.groupby(['EXP_TYPE',\n",
    "    'age', 'Income Level']).mean(['AMOUNT'])"
   ]
  },
  {
   "cell_type": "markdown",
   "id": "0012cc81-c594-4911-822f-7dd94e7e3e8e",
   "metadata": {},
   "source": [
    "# Sorting-"
   ]
  },
  {
   "cell_type": "markdown",
   "id": "77c9ac65-912b-4940-a71d-affb733d5501",
   "metadata": {},
   "source": [
    "# Customer with the biggest transaction-"
   ]
  },
  {
   "cell_type": "markdown",
   "id": "bb4bb6de-a993-4baa-aec8-34999ac01378",
   "metadata": {},
   "source": [
    "# Insight - More time spent waiting for the kernel to reset and the output to be deallocated."
   ]
  },
  {
   "cell_type": "code",
   "execution_count": 70,
   "id": "e76e6830-6320-4518-8ba0-cd22a0690aae",
   "metadata": {},
   "outputs": [
    {
     "name": "stdout",
     "output_type": "stream",
     "text": [
      "CPU times: user 26.9 s, sys: 466 ms, total: 27.3 s\n",
      "Wall time: 26.8 s\n"
     ]
    },
    {
     "data": {
      "text/plain": [
       "130958849    6506.81\n",
       "129672182    6506.68\n",
       "130956925    6480.41\n",
       "129674064    6480.28\n",
       "127312723    6476.55\n",
       "              ...   \n",
       "128670658       1.30\n",
       "130251629       1.29\n",
       "130251023       1.29\n",
       "130821858       1.29\n",
       "128672891       1.28\n",
       "Name: AMOUNT, Length: 130984859, dtype: float64"
      ]
     },
     "execution_count": 70,
     "metadata": {},
     "output_type": "execute_result"
    }
   ],
   "source": [
    "%%time\n",
    "df_cust_transactions.groupby('CUST_ID')['AMOUNT'].sum().sort_values(ascending=False)"
   ]
  },
  {
   "cell_type": "markdown",
   "id": "8e00204b-25f0-4a61-891d-d01fabe43b75",
   "metadata": {},
   "source": [
    "# Row wise operations"
   ]
  },
  {
   "cell_type": "code",
   "execution_count": 66,
   "id": "a5fee830-8a97-4764-9d60-90bb9b45e49d",
   "metadata": {},
   "outputs": [],
   "source": [
    "def calculate_tax(row):\n",
    "    # Placeholder tax calculation\n",
    "    return row['AMOUNT'] * (1.0-0.3) if row['EXP_TYPE'] == 'Income' else 0"
   ]
  },
  {
   "cell_type": "code",
   "execution_count": 67,
   "id": "ed249cfc-44f1-423f-abaf-021c977bc140",
   "metadata": {},
   "outputs": [
    {
     "name": "stdout",
     "output_type": "stream",
     "text": [
      "CPU times: user 8min 47s, sys: 18 s, total: 9min 5s\n",
      "Wall time: 8min 54s\n"
     ]
    }
   ],
   "source": [
    "%%time\n",
    "df_cust_transactions['adjusted_income'] = df_cust_transactions.apply(calculate_tax, axis=1)"
   ]
  },
  {
   "cell_type": "markdown",
   "id": "0568a725-2406-48ec-98c5-7b34f66732be",
   "metadata": {},
   "source": [
    "# Rolling average of entertainment related expense-"
   ]
  },
  {
   "cell_type": "code",
   "execution_count": 68,
   "id": "9bd6b3bc-bdfc-4cf3-9017-d2bbfcb0c69d",
   "metadata": {},
   "outputs": [
    {
     "name": "stdout",
     "output_type": "stream",
     "text": [
      "CPU times: user 1min 2s, sys: 5.36 s, total: 1min 7s\n",
      "Wall time: 1min 6s\n"
     ]
    }
   ],
   "source": [
    "%%time\n",
    "df_cust_transactions['rolling_average'] = df_cust_transactions[\n",
    "df_cust_transactions['EXP_TYPE'\n",
    "] == 'Entertainment'].groupby(\n",
    "    'CUST_ID')[\n",
    "'AMOUNT'].rolling(window=90).mean().reset_index(\n",
    "    level=0, drop=True)"
   ]
  },
  {
   "cell_type": "markdown",
   "id": "c421a3d0-39a5-49c6-a706-c2b24cd80841",
   "metadata": {},
   "source": [
    "# Handling Missing Data"
   ]
  },
  {
   "cell_type": "code",
   "execution_count": 69,
   "id": "ff1ce422-2fe2-4086-9461-e02ebf517142",
   "metadata": {},
   "outputs": [
    {
     "name": "stdout",
     "output_type": "stream",
     "text": [
      "CPU times: user 382 ms, sys: 0 ns, total: 382 ms\n",
      "Wall time: 372 ms\n"
     ]
    }
   ],
   "source": [
    "%%time\n",
    "\n",
    "df_cust_transactions['AMOUNT'] = df_cust_transactions['AMOUNT'].interpolate(method='linear')"
   ]
  },
  {
   "cell_type": "markdown",
   "id": "63ff1d7b-10cf-445c-b907-f38becd5ddfd",
   "metadata": {},
   "source": [
    "# Cudf-"
   ]
  },
  {
   "cell_type": "markdown",
   "id": "56b00a5e-7c28-4404-abad-661444a3cce0",
   "metadata": {},
   "source": [
    "# Sometimes I get OOM error and sometimes I get Large String Error"
   ]
  },
  {
   "cell_type": "markdown",
   "id": "e3c523ed-0190-4cd0-8253-80c0b2cee184",
   "metadata": {},
   "source": [
    "# 21 GB dataset"
   ]
  },
  {
   "cell_type": "code",
   "execution_count": 4,
   "id": "d901ffd0-7be4-4625-9e12-dee496f460d2",
   "metadata": {},
   "outputs": [
    {
     "ename": "MemoryError",
     "evalue": "std::bad_alloc: out_of_memory: CUDA error at: /raid/manass/miniconda3/envs/rapids-24.06/include/rmm/mr/device/cuda_memory_resource.hpp",
     "output_type": "error",
     "traceback": [
      "\u001b[0;31m---------------------------------------------------------------------------\u001b[0m",
      "\u001b[0;31mMemoryError\u001b[0m                               Traceback (most recent call last)",
      "File \u001b[0;32m<timed exec>:2\u001b[0m\n",
      "File \u001b[0;32m/raid/manass/miniconda3/envs/rapids-24.06/lib/python3.11/site-packages/nvtx/nvtx.py:116\u001b[0m, in \u001b[0;36mannotate.__call__.<locals>.inner\u001b[0;34m(*args, **kwargs)\u001b[0m\n\u001b[1;32m    113\u001b[0m \u001b[38;5;129m@wraps\u001b[39m(func)\n\u001b[1;32m    114\u001b[0m \u001b[38;5;28;01mdef\u001b[39;00m \u001b[38;5;21minner\u001b[39m(\u001b[38;5;241m*\u001b[39margs, \u001b[38;5;241m*\u001b[39m\u001b[38;5;241m*\u001b[39mkwargs):\n\u001b[1;32m    115\u001b[0m     libnvtx_push_range(\u001b[38;5;28mself\u001b[39m\u001b[38;5;241m.\u001b[39mattributes, \u001b[38;5;28mself\u001b[39m\u001b[38;5;241m.\u001b[39mdomain\u001b[38;5;241m.\u001b[39mhandle)\n\u001b[0;32m--> 116\u001b[0m     result \u001b[38;5;241m=\u001b[39m \u001b[43mfunc\u001b[49m\u001b[43m(\u001b[49m\u001b[38;5;241;43m*\u001b[39;49m\u001b[43margs\u001b[49m\u001b[43m,\u001b[49m\u001b[43m \u001b[49m\u001b[38;5;241;43m*\u001b[39;49m\u001b[38;5;241;43m*\u001b[39;49m\u001b[43mkwargs\u001b[49m\u001b[43m)\u001b[49m\n\u001b[1;32m    117\u001b[0m     libnvtx_pop_range(\u001b[38;5;28mself\u001b[39m\u001b[38;5;241m.\u001b[39mdomain\u001b[38;5;241m.\u001b[39mhandle)\n\u001b[1;32m    118\u001b[0m     \u001b[38;5;28;01mreturn\u001b[39;00m result\n",
      "File \u001b[0;32m/raid/manass/miniconda3/envs/rapids-24.06/lib/python3.11/site-packages/cudf/io/csv.py:96\u001b[0m, in \u001b[0;36mread_csv\u001b[0;34m(filepath_or_buffer, sep, delimiter, header, names, index_col, usecols, prefix, mangle_dupe_cols, dtype, true_values, false_values, skipinitialspace, skiprows, skipfooter, nrows, na_values, keep_default_na, na_filter, skip_blank_lines, parse_dates, dayfirst, compression, thousands, decimal, lineterminator, quotechar, quoting, doublequote, comment, delim_whitespace, byte_range, use_python_file_object, storage_options, bytes_per_thread)\u001b[0m\n\u001b[1;32m     93\u001b[0m \u001b[38;5;28;01mif\u001b[39;00m na_values \u001b[38;5;129;01mis\u001b[39;00m \u001b[38;5;129;01mnot\u001b[39;00m \u001b[38;5;28;01mNone\u001b[39;00m \u001b[38;5;129;01mand\u001b[39;00m is_scalar(na_values):\n\u001b[1;32m     94\u001b[0m     na_values \u001b[38;5;241m=\u001b[39m [na_values]\n\u001b[0;32m---> 96\u001b[0m df \u001b[38;5;241m=\u001b[39m \u001b[43mlibcudf\u001b[49m\u001b[38;5;241;43m.\u001b[39;49m\u001b[43mcsv\u001b[49m\u001b[38;5;241;43m.\u001b[39;49m\u001b[43mread_csv\u001b[49m\u001b[43m(\u001b[49m\n\u001b[1;32m     97\u001b[0m \u001b[43m    \u001b[49m\u001b[43mfilepath_or_buffer\u001b[49m\u001b[43m,\u001b[49m\n\u001b[1;32m     98\u001b[0m \u001b[43m    \u001b[49m\u001b[43mlineterminator\u001b[49m\u001b[38;5;241;43m=\u001b[39;49m\u001b[43mlineterminator\u001b[49m\u001b[43m,\u001b[49m\n\u001b[1;32m     99\u001b[0m \u001b[43m    \u001b[49m\u001b[43mquotechar\u001b[49m\u001b[38;5;241;43m=\u001b[39;49m\u001b[43mquotechar\u001b[49m\u001b[43m,\u001b[49m\n\u001b[1;32m    100\u001b[0m \u001b[43m    \u001b[49m\u001b[43mquoting\u001b[49m\u001b[38;5;241;43m=\u001b[39;49m\u001b[43mquoting\u001b[49m\u001b[43m,\u001b[49m\n\u001b[1;32m    101\u001b[0m \u001b[43m    \u001b[49m\u001b[43mdoublequote\u001b[49m\u001b[38;5;241;43m=\u001b[39;49m\u001b[43mdoublequote\u001b[49m\u001b[43m,\u001b[49m\n\u001b[1;32m    102\u001b[0m \u001b[43m    \u001b[49m\u001b[43mheader\u001b[49m\u001b[38;5;241;43m=\u001b[39;49m\u001b[43mheader\u001b[49m\u001b[43m,\u001b[49m\n\u001b[1;32m    103\u001b[0m \u001b[43m    \u001b[49m\u001b[43mmangle_dupe_cols\u001b[49m\u001b[38;5;241;43m=\u001b[39;49m\u001b[43mmangle_dupe_cols\u001b[49m\u001b[43m,\u001b[49m\n\u001b[1;32m    104\u001b[0m \u001b[43m    \u001b[49m\u001b[43musecols\u001b[49m\u001b[38;5;241;43m=\u001b[39;49m\u001b[43musecols\u001b[49m\u001b[43m,\u001b[49m\n\u001b[1;32m    105\u001b[0m \u001b[43m    \u001b[49m\u001b[43msep\u001b[49m\u001b[38;5;241;43m=\u001b[39;49m\u001b[43msep\u001b[49m\u001b[43m,\u001b[49m\n\u001b[1;32m    106\u001b[0m \u001b[43m    \u001b[49m\u001b[43mdelimiter\u001b[49m\u001b[38;5;241;43m=\u001b[39;49m\u001b[43mdelimiter\u001b[49m\u001b[43m,\u001b[49m\n\u001b[1;32m    107\u001b[0m \u001b[43m    \u001b[49m\u001b[43mdelim_whitespace\u001b[49m\u001b[38;5;241;43m=\u001b[39;49m\u001b[43mdelim_whitespace\u001b[49m\u001b[43m,\u001b[49m\n\u001b[1;32m    108\u001b[0m \u001b[43m    \u001b[49m\u001b[43mskipinitialspace\u001b[49m\u001b[38;5;241;43m=\u001b[39;49m\u001b[43mskipinitialspace\u001b[49m\u001b[43m,\u001b[49m\n\u001b[1;32m    109\u001b[0m \u001b[43m    \u001b[49m\u001b[43mnames\u001b[49m\u001b[38;5;241;43m=\u001b[39;49m\u001b[43mnames\u001b[49m\u001b[43m,\u001b[49m\n\u001b[1;32m    110\u001b[0m \u001b[43m    \u001b[49m\u001b[43mdtype\u001b[49m\u001b[38;5;241;43m=\u001b[39;49m\u001b[43mdtype\u001b[49m\u001b[43m,\u001b[49m\n\u001b[1;32m    111\u001b[0m \u001b[43m    \u001b[49m\u001b[43mskipfooter\u001b[49m\u001b[38;5;241;43m=\u001b[39;49m\u001b[43mskipfooter\u001b[49m\u001b[43m,\u001b[49m\n\u001b[1;32m    112\u001b[0m \u001b[43m    \u001b[49m\u001b[43mskiprows\u001b[49m\u001b[38;5;241;43m=\u001b[39;49m\u001b[43mskiprows\u001b[49m\u001b[43m,\u001b[49m\n\u001b[1;32m    113\u001b[0m \u001b[43m    \u001b[49m\u001b[43mdayfirst\u001b[49m\u001b[38;5;241;43m=\u001b[39;49m\u001b[43mdayfirst\u001b[49m\u001b[43m,\u001b[49m\n\u001b[1;32m    114\u001b[0m \u001b[43m    \u001b[49m\u001b[43mcompression\u001b[49m\u001b[38;5;241;43m=\u001b[39;49m\u001b[43mcompression\u001b[49m\u001b[43m,\u001b[49m\n\u001b[1;32m    115\u001b[0m \u001b[43m    \u001b[49m\u001b[43mthousands\u001b[49m\u001b[38;5;241;43m=\u001b[39;49m\u001b[43mthousands\u001b[49m\u001b[43m,\u001b[49m\n\u001b[1;32m    116\u001b[0m \u001b[43m    \u001b[49m\u001b[43mdecimal\u001b[49m\u001b[38;5;241;43m=\u001b[39;49m\u001b[43mdecimal\u001b[49m\u001b[43m,\u001b[49m\n\u001b[1;32m    117\u001b[0m \u001b[43m    \u001b[49m\u001b[43mtrue_values\u001b[49m\u001b[38;5;241;43m=\u001b[39;49m\u001b[43mtrue_values\u001b[49m\u001b[43m,\u001b[49m\n\u001b[1;32m    118\u001b[0m \u001b[43m    \u001b[49m\u001b[43mfalse_values\u001b[49m\u001b[38;5;241;43m=\u001b[39;49m\u001b[43mfalse_values\u001b[49m\u001b[43m,\u001b[49m\n\u001b[1;32m    119\u001b[0m \u001b[43m    \u001b[49m\u001b[43mnrows\u001b[49m\u001b[38;5;241;43m=\u001b[39;49m\u001b[43mnrows\u001b[49m\u001b[43m,\u001b[49m\n\u001b[1;32m    120\u001b[0m \u001b[43m    \u001b[49m\u001b[43mbyte_range\u001b[49m\u001b[38;5;241;43m=\u001b[39;49m\u001b[43mbyte_range\u001b[49m\u001b[43m,\u001b[49m\n\u001b[1;32m    121\u001b[0m \u001b[43m    \u001b[49m\u001b[43mskip_blank_lines\u001b[49m\u001b[38;5;241;43m=\u001b[39;49m\u001b[43mskip_blank_lines\u001b[49m\u001b[43m,\u001b[49m\n\u001b[1;32m    122\u001b[0m \u001b[43m    \u001b[49m\u001b[43mparse_dates\u001b[49m\u001b[38;5;241;43m=\u001b[39;49m\u001b[43mparse_dates\u001b[49m\u001b[43m,\u001b[49m\n\u001b[1;32m    123\u001b[0m \u001b[43m    \u001b[49m\u001b[43mcomment\u001b[49m\u001b[38;5;241;43m=\u001b[39;49m\u001b[43mcomment\u001b[49m\u001b[43m,\u001b[49m\n\u001b[1;32m    124\u001b[0m \u001b[43m    \u001b[49m\u001b[43mna_values\u001b[49m\u001b[38;5;241;43m=\u001b[39;49m\u001b[43mna_values\u001b[49m\u001b[43m,\u001b[49m\n\u001b[1;32m    125\u001b[0m \u001b[43m    \u001b[49m\u001b[43mkeep_default_na\u001b[49m\u001b[38;5;241;43m=\u001b[39;49m\u001b[43mkeep_default_na\u001b[49m\u001b[43m,\u001b[49m\n\u001b[1;32m    126\u001b[0m \u001b[43m    \u001b[49m\u001b[43mna_filter\u001b[49m\u001b[38;5;241;43m=\u001b[39;49m\u001b[43mna_filter\u001b[49m\u001b[43m,\u001b[49m\n\u001b[1;32m    127\u001b[0m \u001b[43m    \u001b[49m\u001b[43mprefix\u001b[49m\u001b[38;5;241;43m=\u001b[39;49m\u001b[43mprefix\u001b[49m\u001b[43m,\u001b[49m\n\u001b[1;32m    128\u001b[0m \u001b[43m    \u001b[49m\u001b[43mindex_col\u001b[49m\u001b[38;5;241;43m=\u001b[39;49m\u001b[43mindex_col\u001b[49m\u001b[43m,\u001b[49m\n\u001b[1;32m    129\u001b[0m \u001b[43m\u001b[49m\u001b[43m)\u001b[49m\n\u001b[1;32m    131\u001b[0m \u001b[38;5;28;01mif\u001b[39;00m dtype \u001b[38;5;129;01mis\u001b[39;00m \u001b[38;5;28;01mNone\u001b[39;00m \u001b[38;5;129;01mor\u001b[39;00m \u001b[38;5;28misinstance\u001b[39m(dtype, abc\u001b[38;5;241m.\u001b[39mMapping):\n\u001b[1;32m    132\u001b[0m     \u001b[38;5;66;03m# There exists some dtypes in the result columns that is inferred.\u001b[39;00m\n\u001b[1;32m    133\u001b[0m     \u001b[38;5;66;03m# Find them and map them to the default dtypes.\u001b[39;00m\n\u001b[1;32m    134\u001b[0m     specified_dtypes \u001b[38;5;241m=\u001b[39m {} \u001b[38;5;28;01mif\u001b[39;00m dtype \u001b[38;5;129;01mis\u001b[39;00m \u001b[38;5;28;01mNone\u001b[39;00m \u001b[38;5;28;01melse\u001b[39;00m dtype\n",
      "File \u001b[0;32mcsv.pyx:426\u001b[0m, in \u001b[0;36mcudf._lib.csv.read_csv\u001b[0;34m()\u001b[0m\n",
      "\u001b[0;31mMemoryError\u001b[0m: std::bad_alloc: out_of_memory: CUDA error at: /raid/manass/miniconda3/envs/rapids-24.06/include/rmm/mr/device/cuda_memory_resource.hpp"
     ]
    }
   ],
   "source": [
    "%%time\n",
    "#df = pd.read_csv('/raid/manass/cudf/data/transactions.csv')\n",
    "gdf = cudf.read_csv('/raid/manass/cudf/data/transactions.csv', sep=',')\n",
    "sys.getsizeof(gdf)/10**9"
   ]
  },
  {
   "cell_type": "markdown",
   "id": "acaf1aa2-2b8f-4971-89b0-bb454d818b2c",
   "metadata": {},
   "source": [
    "# limit the size of df and then store it back-"
   ]
  },
  {
   "cell_type": "code",
   "execution_count": 147,
   "id": "65cd2bbf-7772-42bf-9b9c-749447f694ea",
   "metadata": {},
   "outputs": [],
   "source": [
    "top_50_percent_rows = len(df) // 2\n",
    "top_50_df = df.head(top_50_percent_rows)\n",
    "top_50_df.shape\n",
    "top_50_df.to_csv('/raid/manass/cudf/data/half_transactions.csv')"
   ]
  },
  {
   "cell_type": "markdown",
   "id": "a91b1340-fcb0-4732-8e35-9b85482c8ca4",
   "metadata": {},
   "source": [
    "# Loaded the half size dataset (13 GB) onto GPU."
   ]
  },
  {
   "cell_type": "markdown",
   "id": "b5f617ee-990c-4dbe-a459-929aedde47cc",
   "metadata": {},
   "source": [
    "# Everytime I load the dataframe -- a new copy of the data gets loaded to the dataframe"
   ]
  },
  {
   "cell_type": "code",
   "execution_count": 2,
   "id": "ed5143b3-d1e0-4805-9ead-869927589797",
   "metadata": {},
   "outputs": [
    {
     "name": "stdout",
     "output_type": "stream",
     "text": [
      "CPU times: user 6.28 s, sys: 3.94 s, total: 10.2 s\n",
      "Wall time: 10.1 s\n"
     ]
    }
   ],
   "source": [
    "%%time\n",
    "gdf = cudf.read_csv('/raid/manass/cudf/data/half_transactions.csv')"
   ]
  },
  {
   "cell_type": "code",
   "execution_count": 3,
   "id": "880aca82-103a-4914-b263-7d0ccffe6a7d",
   "metadata": {},
   "outputs": [
    {
     "name": "stdout",
     "output_type": "stream",
     "text": [
      "CPU times: user 7.92 ms, sys: 6.94 ms, total: 14.9 ms\n",
      "Wall time: 13.5 ms\n"
     ]
    },
    {
     "data": {
      "text/html": [
       "<div>\n",
       "<style scoped>\n",
       "    .dataframe tbody tr th:only-of-type {\n",
       "        vertical-align: middle;\n",
       "    }\n",
       "\n",
       "    .dataframe tbody tr th {\n",
       "        vertical-align: top;\n",
       "    }\n",
       "\n",
       "    .dataframe thead th {\n",
       "        text-align: right;\n",
       "    }\n",
       "</style>\n",
       "<table border=\"1\" class=\"dataframe\">\n",
       "  <thead>\n",
       "    <tr style=\"text-align: right;\">\n",
       "      <th></th>\n",
       "      <th>Unnamed: 0</th>\n",
       "      <th>CUST_ID</th>\n",
       "      <th>START_DATE</th>\n",
       "      <th>END_DATE</th>\n",
       "      <th>TRANS_ID</th>\n",
       "      <th>DATE</th>\n",
       "      <th>YEAR</th>\n",
       "      <th>MONTH</th>\n",
       "      <th>DAY</th>\n",
       "      <th>EXP_TYPE</th>\n",
       "      <th>AMOUNT</th>\n",
       "      <th>CUST_ID_len</th>\n",
       "      <th>TRANS_ID_len</th>\n",
       "    </tr>\n",
       "  </thead>\n",
       "  <tbody>\n",
       "    <tr>\n",
       "      <th>0</th>\n",
       "      <td>0</td>\n",
       "      <td>CI6XLYUMQK</td>\n",
       "      <td>2015-05-01</td>\n",
       "      <td>&lt;NA&gt;</td>\n",
       "      <td>T8I9ZB5A6X90UG8</td>\n",
       "      <td>2015-09-11</td>\n",
       "      <td>2015</td>\n",
       "      <td>9</td>\n",
       "      <td>11</td>\n",
       "      <td>Motor/Travel</td>\n",
       "      <td>20.27</td>\n",
       "      <td>10</td>\n",
       "      <td>15</td>\n",
       "    </tr>\n",
       "    <tr>\n",
       "      <th>1</th>\n",
       "      <td>1</td>\n",
       "      <td>CI6XLYUMQK</td>\n",
       "      <td>2015-05-01</td>\n",
       "      <td>&lt;NA&gt;</td>\n",
       "      <td>TZ4JSLS7SC7FO9H</td>\n",
       "      <td>2017-02-08</td>\n",
       "      <td>2017</td>\n",
       "      <td>2</td>\n",
       "      <td>8</td>\n",
       "      <td>Motor/Travel</td>\n",
       "      <td>12.85</td>\n",
       "      <td>10</td>\n",
       "      <td>15</td>\n",
       "    </tr>\n",
       "    <tr>\n",
       "      <th>2</th>\n",
       "      <td>2</td>\n",
       "      <td>CI6XLYUMQK</td>\n",
       "      <td>2015-05-01</td>\n",
       "      <td>&lt;NA&gt;</td>\n",
       "      <td>TTUKRDDJ6B6F42H</td>\n",
       "      <td>2015-08-01</td>\n",
       "      <td>2015</td>\n",
       "      <td>8</td>\n",
       "      <td>1</td>\n",
       "      <td>Housing</td>\n",
       "      <td>383.80</td>\n",
       "      <td>10</td>\n",
       "      <td>15</td>\n",
       "    </tr>\n",
       "    <tr>\n",
       "      <th>3</th>\n",
       "      <td>3</td>\n",
       "      <td>CI6XLYUMQK</td>\n",
       "      <td>2015-05-01</td>\n",
       "      <td>&lt;NA&gt;</td>\n",
       "      <td>TDUHFRUKGPPI6HD</td>\n",
       "      <td>2019-03-16</td>\n",
       "      <td>2019</td>\n",
       "      <td>3</td>\n",
       "      <td>16</td>\n",
       "      <td>Entertainment</td>\n",
       "      <td>5.72</td>\n",
       "      <td>10</td>\n",
       "      <td>15</td>\n",
       "    </tr>\n",
       "    <tr>\n",
       "      <th>4</th>\n",
       "      <td>4</td>\n",
       "      <td>CI6XLYUMQK</td>\n",
       "      <td>2015-05-01</td>\n",
       "      <td>&lt;NA&gt;</td>\n",
       "      <td>T0JBZHBMSVRFMMD</td>\n",
       "      <td>2015-05-15</td>\n",
       "      <td>2015</td>\n",
       "      <td>5</td>\n",
       "      <td>15</td>\n",
       "      <td>Entertainment</td>\n",
       "      <td>11.06</td>\n",
       "      <td>10</td>\n",
       "      <td>15</td>\n",
       "    </tr>\n",
       "  </tbody>\n",
       "</table>\n",
       "</div>"
      ],
      "text/plain": [
       "   Unnamed: 0     CUST_ID  START_DATE END_DATE         TRANS_ID        DATE  \\\n",
       "0           0  CI6XLYUMQK  2015-05-01     <NA>  T8I9ZB5A6X90UG8  2015-09-11   \n",
       "1           1  CI6XLYUMQK  2015-05-01     <NA>  TZ4JSLS7SC7FO9H  2017-02-08   \n",
       "2           2  CI6XLYUMQK  2015-05-01     <NA>  TTUKRDDJ6B6F42H  2015-08-01   \n",
       "3           3  CI6XLYUMQK  2015-05-01     <NA>  TDUHFRUKGPPI6HD  2019-03-16   \n",
       "4           4  CI6XLYUMQK  2015-05-01     <NA>  T0JBZHBMSVRFMMD  2015-05-15   \n",
       "\n",
       "   YEAR  MONTH  DAY       EXP_TYPE  AMOUNT  CUST_ID_len  TRANS_ID_len  \n",
       "0  2015      9   11   Motor/Travel   20.27           10            15  \n",
       "1  2017      2    8   Motor/Travel   12.85           10            15  \n",
       "2  2015      8    1        Housing  383.80           10            15  \n",
       "3  2019      3   16  Entertainment    5.72           10            15  \n",
       "4  2015      5   15  Entertainment   11.06           10            15  "
      ]
     },
     "execution_count": 3,
     "metadata": {},
     "output_type": "execute_result"
    }
   ],
   "source": [
    "%%time\n",
    "gdf.head()"
   ]
  },
  {
   "cell_type": "code",
   "execution_count": 4,
   "id": "a585ff7f-00c9-4679-879d-5b2888b55486",
   "metadata": {},
   "outputs": [
    {
     "name": "stdout",
     "output_type": "stream",
     "text": [
      "CPU times: user 73.7 ms, sys: 12.9 ms, total: 86.6 ms\n",
      "Wall time: 83.8 ms\n"
     ]
    }
   ],
   "source": [
    "%%time\n",
    "df_customer = cudf.DataFrame()\n",
    "df_customer['CUST_ID'] = gdf['CUST_ID'].unique()"
   ]
  },
  {
   "cell_type": "code",
   "execution_count": 5,
   "id": "8c8c7170-a910-4f09-8063-b865b7843d3e",
   "metadata": {},
   "outputs": [
    {
     "name": "stdout",
     "output_type": "stream",
     "text": [
      "CPU times: user 8.86 ms, sys: 4.62 ms, total: 13.5 ms\n",
      "Wall time: 11.9 ms\n"
     ]
    }
   ],
   "source": [
    "%%time\n",
    "income_levels = ['Less than 10K', 'Between 10K and 25K', 'Greater than 25K', 'Between 25K and 100K','Greater than 100K']\n",
    "df_customer['age'] = np.random.randint(18, 81, size=len(df_customer))\n",
    "df_customer['Income Level'] = np.random.choice(income_levels, size=len(df_customer))"
   ]
  },
  {
   "cell_type": "code",
   "execution_count": 6,
   "id": "b3fb40cb-26dd-43b3-96b4-e5a48f272910",
   "metadata": {},
   "outputs": [
    {
     "data": {
      "text/plain": [
       "0.0014389343559741974"
      ]
     },
     "execution_count": 6,
     "metadata": {},
     "output_type": "execute_result"
    }
   ],
   "source": [
    "# Calculate total memory usage of the DataFrame in bytes\n",
    "total_memory_bytes = df_customer.memory_usage(deep=True).sum()\n",
    "\n",
    "# Convert bytes to gigabytes\n",
    "total_memory_gb = total_memory_bytes / (1024**3)\n",
    "\n",
    "total_memory_gb"
   ]
  },
  {
   "cell_type": "code",
   "execution_count": 7,
   "id": "90897572-2407-4cab-97f9-6c7a99c62adc",
   "metadata": {},
   "outputs": [
    {
     "ename": "OverflowError",
     "evalue": "CUDF failure at: /opt/conda/conda-bld/work/cpp/include/cudf/strings/detail/strings_children.cuh:85: Size of output exceeds the column size limit",
     "output_type": "error",
     "traceback": [
      "\u001b[0;31m---------------------------------------------------------------------------\u001b[0m",
      "\u001b[0;31mOverflowError\u001b[0m                             Traceback (most recent call last)",
      "File \u001b[0;32m<timed exec>:1\u001b[0m\n",
      "File \u001b[0;32m/raid/manass/miniconda3/envs/rapids-24.06/lib/python3.11/site-packages/nvtx/nvtx.py:116\u001b[0m, in \u001b[0;36mannotate.__call__.<locals>.inner\u001b[0;34m(*args, **kwargs)\u001b[0m\n\u001b[1;32m    113\u001b[0m \u001b[38;5;129m@wraps\u001b[39m(func)\n\u001b[1;32m    114\u001b[0m \u001b[38;5;28;01mdef\u001b[39;00m \u001b[38;5;21minner\u001b[39m(\u001b[38;5;241m*\u001b[39margs, \u001b[38;5;241m*\u001b[39m\u001b[38;5;241m*\u001b[39mkwargs):\n\u001b[1;32m    115\u001b[0m     libnvtx_push_range(\u001b[38;5;28mself\u001b[39m\u001b[38;5;241m.\u001b[39mattributes, \u001b[38;5;28mself\u001b[39m\u001b[38;5;241m.\u001b[39mdomain\u001b[38;5;241m.\u001b[39mhandle)\n\u001b[0;32m--> 116\u001b[0m     result \u001b[38;5;241m=\u001b[39m \u001b[43mfunc\u001b[49m\u001b[43m(\u001b[49m\u001b[38;5;241;43m*\u001b[39;49m\u001b[43margs\u001b[49m\u001b[43m,\u001b[49m\u001b[43m \u001b[49m\u001b[38;5;241;43m*\u001b[39;49m\u001b[38;5;241;43m*\u001b[39;49m\u001b[43mkwargs\u001b[49m\u001b[43m)\u001b[49m\n\u001b[1;32m    117\u001b[0m     libnvtx_pop_range(\u001b[38;5;28mself\u001b[39m\u001b[38;5;241m.\u001b[39mdomain\u001b[38;5;241m.\u001b[39mhandle)\n\u001b[1;32m    118\u001b[0m     \u001b[38;5;28;01mreturn\u001b[39;00m result\n",
      "File \u001b[0;32m/raid/manass/miniconda3/envs/rapids-24.06/lib/python3.11/site-packages/cudf/core/dataframe.py:8091\u001b[0m, in \u001b[0;36mmerge\u001b[0;34m(left, right, *args, **kwargs)\u001b[0m\n\u001b[1;32m   8089\u001b[0m \u001b[38;5;28;01mif\u001b[39;00m \u001b[38;5;28misinstance\u001b[39m(left, Series):\n\u001b[1;32m   8090\u001b[0m     left \u001b[38;5;241m=\u001b[39m left\u001b[38;5;241m.\u001b[39mto_frame()\n\u001b[0;32m-> 8091\u001b[0m \u001b[38;5;28;01mreturn\u001b[39;00m \u001b[43mleft\u001b[49m\u001b[38;5;241;43m.\u001b[39;49m\u001b[43mmerge\u001b[49m\u001b[43m(\u001b[49m\u001b[43mright\u001b[49m\u001b[43m,\u001b[49m\u001b[43m \u001b[49m\u001b[38;5;241;43m*\u001b[39;49m\u001b[43margs\u001b[49m\u001b[43m,\u001b[49m\u001b[43m \u001b[49m\u001b[38;5;241;43m*\u001b[39;49m\u001b[38;5;241;43m*\u001b[39;49m\u001b[43mkwargs\u001b[49m\u001b[43m)\u001b[49m\n",
      "File \u001b[0;32m/raid/manass/miniconda3/envs/rapids-24.06/lib/python3.11/site-packages/nvtx/nvtx.py:116\u001b[0m, in \u001b[0;36mannotate.__call__.<locals>.inner\u001b[0;34m(*args, **kwargs)\u001b[0m\n\u001b[1;32m    113\u001b[0m \u001b[38;5;129m@wraps\u001b[39m(func)\n\u001b[1;32m    114\u001b[0m \u001b[38;5;28;01mdef\u001b[39;00m \u001b[38;5;21minner\u001b[39m(\u001b[38;5;241m*\u001b[39margs, \u001b[38;5;241m*\u001b[39m\u001b[38;5;241m*\u001b[39mkwargs):\n\u001b[1;32m    115\u001b[0m     libnvtx_push_range(\u001b[38;5;28mself\u001b[39m\u001b[38;5;241m.\u001b[39mattributes, \u001b[38;5;28mself\u001b[39m\u001b[38;5;241m.\u001b[39mdomain\u001b[38;5;241m.\u001b[39mhandle)\n\u001b[0;32m--> 116\u001b[0m     result \u001b[38;5;241m=\u001b[39m \u001b[43mfunc\u001b[49m\u001b[43m(\u001b[49m\u001b[38;5;241;43m*\u001b[39;49m\u001b[43margs\u001b[49m\u001b[43m,\u001b[49m\u001b[43m \u001b[49m\u001b[38;5;241;43m*\u001b[39;49m\u001b[38;5;241;43m*\u001b[39;49m\u001b[43mkwargs\u001b[49m\u001b[43m)\u001b[49m\n\u001b[1;32m    117\u001b[0m     libnvtx_pop_range(\u001b[38;5;28mself\u001b[39m\u001b[38;5;241m.\u001b[39mdomain\u001b[38;5;241m.\u001b[39mhandle)\n\u001b[1;32m    118\u001b[0m     \u001b[38;5;28;01mreturn\u001b[39;00m result\n",
      "File \u001b[0;32m/raid/manass/miniconda3/envs/rapids-24.06/lib/python3.11/site-packages/cudf/core/dataframe.py:4224\u001b[0m, in \u001b[0;36mDataFrame.merge\u001b[0;34m(self, right, on, left_on, right_on, left_index, right_index, how, sort, lsuffix, rsuffix, indicator, suffixes)\u001b[0m\n\u001b[1;32m   4209\u001b[0m \u001b[38;5;28;01melif\u001b[39;00m how \u001b[38;5;129;01min\u001b[39;00m {\u001b[38;5;124m\"\u001b[39m\u001b[38;5;124mleftsemi\u001b[39m\u001b[38;5;124m\"\u001b[39m, \u001b[38;5;124m\"\u001b[39m\u001b[38;5;124mleftanti\u001b[39m\u001b[38;5;124m\"\u001b[39m}:\n\u001b[1;32m   4210\u001b[0m     merge_cls \u001b[38;5;241m=\u001b[39m MergeSemi\n\u001b[1;32m   4212\u001b[0m \u001b[38;5;28;01mreturn\u001b[39;00m \u001b[43mmerge_cls\u001b[49m\u001b[43m(\u001b[49m\n\u001b[1;32m   4213\u001b[0m \u001b[43m    \u001b[49m\u001b[43mlhs\u001b[49m\u001b[43m,\u001b[49m\n\u001b[1;32m   4214\u001b[0m \u001b[43m    \u001b[49m\u001b[43mrhs\u001b[49m\u001b[43m,\u001b[49m\n\u001b[1;32m   4215\u001b[0m \u001b[43m    \u001b[49m\u001b[43mon\u001b[49m\u001b[38;5;241;43m=\u001b[39;49m\u001b[43mon\u001b[49m\u001b[43m,\u001b[49m\n\u001b[1;32m   4216\u001b[0m \u001b[43m    \u001b[49m\u001b[43mleft_on\u001b[49m\u001b[38;5;241;43m=\u001b[39;49m\u001b[43mleft_on\u001b[49m\u001b[43m,\u001b[49m\n\u001b[1;32m   4217\u001b[0m \u001b[43m    \u001b[49m\u001b[43mright_on\u001b[49m\u001b[38;5;241;43m=\u001b[39;49m\u001b[43mright_on\u001b[49m\u001b[43m,\u001b[49m\n\u001b[1;32m   4218\u001b[0m \u001b[43m    \u001b[49m\u001b[43mleft_index\u001b[49m\u001b[38;5;241;43m=\u001b[39;49m\u001b[43mleft_index\u001b[49m\u001b[43m,\u001b[49m\n\u001b[1;32m   4219\u001b[0m \u001b[43m    \u001b[49m\u001b[43mright_index\u001b[49m\u001b[38;5;241;43m=\u001b[39;49m\u001b[43mright_index\u001b[49m\u001b[43m,\u001b[49m\n\u001b[1;32m   4220\u001b[0m \u001b[43m    \u001b[49m\u001b[43mhow\u001b[49m\u001b[38;5;241;43m=\u001b[39;49m\u001b[43mhow\u001b[49m\u001b[43m,\u001b[49m\n\u001b[1;32m   4221\u001b[0m \u001b[43m    \u001b[49m\u001b[43msort\u001b[49m\u001b[38;5;241;43m=\u001b[39;49m\u001b[43msort\u001b[49m\u001b[43m,\u001b[49m\n\u001b[1;32m   4222\u001b[0m \u001b[43m    \u001b[49m\u001b[43mindicator\u001b[49m\u001b[38;5;241;43m=\u001b[39;49m\u001b[43mindicator\u001b[49m\u001b[43m,\u001b[49m\n\u001b[1;32m   4223\u001b[0m \u001b[43m    \u001b[49m\u001b[43msuffixes\u001b[49m\u001b[38;5;241;43m=\u001b[39;49m\u001b[43msuffixes\u001b[49m\u001b[43m,\u001b[49m\n\u001b[0;32m-> 4224\u001b[0m \u001b[43m\u001b[49m\u001b[43m)\u001b[49m\u001b[38;5;241;43m.\u001b[39;49m\u001b[43mperform_merge\u001b[49m\u001b[43m(\u001b[49m\u001b[43m)\u001b[49m\n",
      "File \u001b[0;32m/raid/manass/miniconda3/envs/rapids-24.06/lib/python3.11/site-packages/cudf/core/join/join.py:296\u001b[0m, in \u001b[0;36mMerge.perform_merge\u001b[0;34m(self)\u001b[0m\n\u001b[1;32m    284\u001b[0m left_result \u001b[38;5;241m=\u001b[39m (\n\u001b[1;32m    285\u001b[0m     \u001b[38;5;28mself\u001b[39m\u001b[38;5;241m.\u001b[39mlhs\u001b[38;5;241m.\u001b[39m_gather(\n\u001b[1;32m    286\u001b[0m         GatherMap\u001b[38;5;241m.\u001b[39mfrom_column_unchecked(\n\u001b[0;32m   (...)\u001b[0m\n\u001b[1;32m    292\u001b[0m     \u001b[38;5;28;01melse\u001b[39;00m cudf\u001b[38;5;241m.\u001b[39mDataFrame\u001b[38;5;241m.\u001b[39m_from_data({})\n\u001b[1;32m    293\u001b[0m )\n\u001b[1;32m    294\u001b[0m \u001b[38;5;28;01mdel\u001b[39;00m left_rows\n\u001b[1;32m    295\u001b[0m right_result \u001b[38;5;241m=\u001b[39m (\n\u001b[0;32m--> 296\u001b[0m     \u001b[38;5;28;43mself\u001b[39;49m\u001b[38;5;241;43m.\u001b[39;49m\u001b[43mrhs\u001b[49m\u001b[38;5;241;43m.\u001b[39;49m\u001b[43m_gather\u001b[49m\u001b[43m(\u001b[49m\n\u001b[1;32m    297\u001b[0m \u001b[43m        \u001b[49m\u001b[43mGatherMap\u001b[49m\u001b[38;5;241;43m.\u001b[39;49m\u001b[43mfrom_column_unchecked\u001b[49m\u001b[43m(\u001b[49m\n\u001b[1;32m    298\u001b[0m \u001b[43m            \u001b[49m\u001b[43mright_rows\u001b[49m\u001b[43m,\u001b[49m\u001b[43m \u001b[49m\u001b[38;5;28;43mlen\u001b[39;49m\u001b[43m(\u001b[49m\u001b[38;5;28;43mself\u001b[39;49m\u001b[38;5;241;43m.\u001b[39;49m\u001b[43mrhs\u001b[49m\u001b[43m)\u001b[49m\u001b[43m,\u001b[49m\u001b[43m \u001b[49m\u001b[43mnullify\u001b[49m\u001b[38;5;241;43m=\u001b[39;49m\u001b[38;5;28;43;01mTrue\u001b[39;49;00m\n\u001b[1;32m    299\u001b[0m \u001b[43m        \u001b[49m\u001b[43m)\u001b[49m\u001b[43m,\u001b[49m\n\u001b[1;32m    300\u001b[0m \u001b[43m        \u001b[49m\u001b[38;5;241;43m*\u001b[39;49m\u001b[38;5;241;43m*\u001b[39;49m\u001b[43mgather_kwargs\u001b[49m\u001b[43m,\u001b[49m\n\u001b[1;32m    301\u001b[0m \u001b[43m    \u001b[49m\u001b[43m)\u001b[49m\n\u001b[1;32m    302\u001b[0m     \u001b[38;5;28;01mif\u001b[39;00m right_rows \u001b[38;5;129;01mis\u001b[39;00m \u001b[38;5;129;01mnot\u001b[39;00m \u001b[38;5;28;01mNone\u001b[39;00m\n\u001b[1;32m    303\u001b[0m     \u001b[38;5;28;01melse\u001b[39;00m cudf\u001b[38;5;241m.\u001b[39mDataFrame\u001b[38;5;241m.\u001b[39m_from_data({})\n\u001b[1;32m    304\u001b[0m )\n\u001b[1;32m    305\u001b[0m \u001b[38;5;28;01mdel\u001b[39;00m right_rows\n\u001b[1;32m    306\u001b[0m result \u001b[38;5;241m=\u001b[39m cudf\u001b[38;5;241m.\u001b[39mDataFrame\u001b[38;5;241m.\u001b[39m_from_data(\n\u001b[1;32m    307\u001b[0m     \u001b[38;5;241m*\u001b[39m\u001b[38;5;28mself\u001b[39m\u001b[38;5;241m.\u001b[39m_merge_results(left_result, right_result)\n\u001b[1;32m    308\u001b[0m )\n",
      "File \u001b[0;32m/raid/manass/miniconda3/envs/rapids-24.06/lib/python3.11/site-packages/cudf/core/indexed_frame.py:2920\u001b[0m, in \u001b[0;36mIndexedFrame._gather\u001b[0;34m(self, gather_map, keep_index)\u001b[0m\n\u001b[1;32m   2917\u001b[0m \u001b[38;5;28;01mif\u001b[39;00m \u001b[38;5;129;01mnot\u001b[39;00m gather_map\u001b[38;5;241m.\u001b[39mnullify \u001b[38;5;129;01mand\u001b[39;00m \u001b[38;5;28mlen\u001b[39m(\u001b[38;5;28mself\u001b[39m) \u001b[38;5;241m!=\u001b[39m gather_map\u001b[38;5;241m.\u001b[39mnrows:\n\u001b[1;32m   2918\u001b[0m     \u001b[38;5;28;01mraise\u001b[39;00m \u001b[38;5;167;01mIndexError\u001b[39;00m(\u001b[38;5;124m\"\u001b[39m\u001b[38;5;124mGather map is out of bounds\u001b[39m\u001b[38;5;124m\"\u001b[39m)\n\u001b[1;32m   2919\u001b[0m \u001b[38;5;28;01mreturn\u001b[39;00m \u001b[38;5;28mself\u001b[39m\u001b[38;5;241m.\u001b[39m_from_columns_like_self(\n\u001b[0;32m-> 2920\u001b[0m     \u001b[43mlibcudf\u001b[49m\u001b[38;5;241;43m.\u001b[39;49m\u001b[43mcopying\u001b[49m\u001b[38;5;241;43m.\u001b[39;49m\u001b[43mgather\u001b[49m\u001b[43m(\u001b[49m\n\u001b[1;32m   2921\u001b[0m \u001b[43m        \u001b[49m\u001b[38;5;28;43mlist\u001b[39;49m\u001b[43m(\u001b[49m\u001b[38;5;28;43mself\u001b[39;49m\u001b[38;5;241;43m.\u001b[39;49m\u001b[43mindex\u001b[49m\u001b[38;5;241;43m.\u001b[39;49m\u001b[43m_columns\u001b[49m\u001b[43m \u001b[49m\u001b[38;5;241;43m+\u001b[39;49m\u001b[43m \u001b[49m\u001b[38;5;28;43mself\u001b[39;49m\u001b[38;5;241;43m.\u001b[39;49m\u001b[43m_columns\u001b[49m\u001b[43m)\u001b[49m\n\u001b[1;32m   2922\u001b[0m \u001b[43m        \u001b[49m\u001b[38;5;28;43;01mif\u001b[39;49;00m\u001b[43m \u001b[49m\u001b[43mkeep_index\u001b[49m\n\u001b[1;32m   2923\u001b[0m \u001b[43m        \u001b[49m\u001b[38;5;28;43;01melse\u001b[39;49;00m\u001b[43m \u001b[49m\u001b[38;5;28;43mlist\u001b[39;49m\u001b[43m(\u001b[49m\u001b[38;5;28;43mself\u001b[39;49m\u001b[38;5;241;43m.\u001b[39;49m\u001b[43m_columns\u001b[49m\u001b[43m)\u001b[49m\u001b[43m,\u001b[49m\n\u001b[1;32m   2924\u001b[0m \u001b[43m        \u001b[49m\u001b[43mgather_map\u001b[49m\u001b[38;5;241;43m.\u001b[39;49m\u001b[43mcolumn\u001b[49m\u001b[43m,\u001b[49m\n\u001b[1;32m   2925\u001b[0m \u001b[43m        \u001b[49m\u001b[43mnullify\u001b[49m\u001b[38;5;241;43m=\u001b[39;49m\u001b[43mgather_map\u001b[49m\u001b[38;5;241;43m.\u001b[39;49m\u001b[43mnullify\u001b[49m\u001b[43m,\u001b[49m\n\u001b[1;32m   2926\u001b[0m \u001b[43m    \u001b[49m\u001b[43m)\u001b[49m,\n\u001b[1;32m   2927\u001b[0m     \u001b[38;5;28mself\u001b[39m\u001b[38;5;241m.\u001b[39m_column_names,\n\u001b[1;32m   2928\u001b[0m     \u001b[38;5;28mself\u001b[39m\u001b[38;5;241m.\u001b[39mindex\u001b[38;5;241m.\u001b[39mnames \u001b[38;5;28;01mif\u001b[39;00m keep_index \u001b[38;5;28;01melse\u001b[39;00m \u001b[38;5;28;01mNone\u001b[39;00m,\n\u001b[1;32m   2929\u001b[0m )\n",
      "File \u001b[0;32m/raid/manass/miniconda3/envs/rapids-24.06/lib/python3.11/contextlib.py:81\u001b[0m, in \u001b[0;36mContextDecorator.__call__.<locals>.inner\u001b[0;34m(*args, **kwds)\u001b[0m\n\u001b[1;32m     78\u001b[0m \u001b[38;5;129m@wraps\u001b[39m(func)\n\u001b[1;32m     79\u001b[0m \u001b[38;5;28;01mdef\u001b[39;00m \u001b[38;5;21minner\u001b[39m(\u001b[38;5;241m*\u001b[39margs, \u001b[38;5;241m*\u001b[39m\u001b[38;5;241m*\u001b[39mkwds):\n\u001b[1;32m     80\u001b[0m     \u001b[38;5;28;01mwith\u001b[39;00m \u001b[38;5;28mself\u001b[39m\u001b[38;5;241m.\u001b[39m_recreate_cm():\n\u001b[0;32m---> 81\u001b[0m         \u001b[38;5;28;01mreturn\u001b[39;00m \u001b[43mfunc\u001b[49m\u001b[43m(\u001b[49m\u001b[38;5;241;43m*\u001b[39;49m\u001b[43margs\u001b[49m\u001b[43m,\u001b[49m\u001b[43m \u001b[49m\u001b[38;5;241;43m*\u001b[39;49m\u001b[38;5;241;43m*\u001b[39;49m\u001b[43mkwds\u001b[49m\u001b[43m)\u001b[49m\n",
      "File \u001b[0;32mcopying.pyx:153\u001b[0m, in \u001b[0;36mcudf._lib.copying.gather\u001b[0;34m()\u001b[0m\n",
      "File \u001b[0;32mcopying.pyx:40\u001b[0m, in \u001b[0;36mcudf._lib.pylibcudf.copying.gather\u001b[0;34m()\u001b[0m\n",
      "File \u001b[0;32mcopying.pyx:72\u001b[0m, in \u001b[0;36mcudf._lib.pylibcudf.copying.gather\u001b[0;34m()\u001b[0m\n",
      "\u001b[0;31mOverflowError\u001b[0m: CUDF failure at: /opt/conda/conda-bld/work/cpp/include/cudf/strings/detail/strings_children.cuh:85: Size of output exceeds the column size limit"
     ]
    }
   ],
   "source": [
    "%%time\n",
    "df_cust_transactions = cudf.merge(gdf,df_customer, on = 'CUST_ID', how = 'left')"
   ]
  },
  {
   "cell_type": "code",
   "execution_count": 8,
   "id": "6064b373-49d2-4c25-acad-efaedb322658",
   "metadata": {},
   "outputs": [],
   "source": [
    "gdf_small=gdf.head(len(gdf)//2)"
   ]
  },
  {
   "cell_type": "code",
   "execution_count": 9,
   "id": "8b602cc1-3716-4600-8e5c-ea0968e51569",
   "metadata": {},
   "outputs": [
    {
     "data": {
      "text/plain": [
       "8.695324851199985"
      ]
     },
     "execution_count": 9,
     "metadata": {},
     "output_type": "execute_result"
    }
   ],
   "source": [
    "# Calculate total memory usage of the DataFrame in bytes\n",
    "total_memory_bytes = gdf_small.memory_usage(deep=True).sum()\n",
    "\n",
    "# Convert bytes to gigabytes\n",
    "total_memory_gb = total_memory_bytes / (1024**3)\n",
    "\n",
    "total_memory_gb"
   ]
  },
  {
   "cell_type": "code",
   "execution_count": 10,
   "id": "8ea36bb9-223e-4fd6-af7e-193ff87da713",
   "metadata": {},
   "outputs": [
    {
     "name": "stdout",
     "output_type": "stream",
     "text": [
      "CPU times: user 120 ms, sys: 15.1 ms, total: 135 ms\n",
      "Wall time: 131 ms\n"
     ]
    }
   ],
   "source": [
    "%%time\n",
    "gdf_cust_transactions = cudf.merge(gdf_small,df_customer, on = 'CUST_ID', how = 'left')"
   ]
  },
  {
   "cell_type": "code",
   "execution_count": 11,
   "id": "c9fdc6d9-0770-4daf-ac1a-840e8d07b108",
   "metadata": {},
   "outputs": [
    {
     "data": {
      "text/plain": [
       "8.695324851199985"
      ]
     },
     "execution_count": 11,
     "metadata": {},
     "output_type": "execute_result"
    }
   ],
   "source": [
    "# Calculate total memory usage of the DataFrame in bytes\n",
    "total_memory_bytes = gdf_small.memory_usage(deep=True).sum()\n",
    "\n",
    "# Convert bytes to gigabytes\n",
    "total_memory_gb = total_memory_bytes / (1024**3)\n",
    "\n",
    "total_memory_gb"
   ]
  },
  {
   "cell_type": "code",
   "execution_count": 12,
   "id": "984d1360-5434-4c24-bcf6-93fc0ea62472",
   "metadata": {},
   "outputs": [
    {
     "ename": "OverflowError",
     "evalue": "Writing CSV file with chunksize=130984859 failed. Consider providing a smaller chunksize argument.",
     "output_type": "error",
     "traceback": [
      "\u001b[0;31m---------------------------------------------------------------------------\u001b[0m",
      "\u001b[0;31mOverflowError\u001b[0m                             Traceback (most recent call last)",
      "File \u001b[0;32mcsv.pyx:545\u001b[0m, in \u001b[0;36mcudf._lib.csv.write_csv\u001b[0;34m()\u001b[0m\n",
      "\u001b[0;31mOverflowError\u001b[0m: CUDF failure at: /opt/conda/conda-bld/work/cpp/include/cudf/strings/detail/strings_children.cuh:85: Size of output exceeds the column size limit",
      "\nDuring handling of the above exception, another exception occurred:\n",
      "\u001b[0;31mOverflowError\u001b[0m                             Traceback (most recent call last)",
      "Cell \u001b[0;32mIn[12], line 1\u001b[0m\n\u001b[0;32m----> 1\u001b[0m \u001b[43mgdf\u001b[49m\u001b[38;5;241;43m.\u001b[39;49m\u001b[43mto_csv\u001b[49m\u001b[43m(\u001b[49m\u001b[38;5;124;43m\"\u001b[39;49m\u001b[38;5;124;43m/raid/manass/cudf/data/quarter_transactions.csv\u001b[39;49m\u001b[38;5;124;43m\"\u001b[39;49m\u001b[43m)\u001b[49m\n",
      "File \u001b[0;32m/raid/manass/miniconda3/envs/rapids-24.06/lib/python3.11/site-packages/cudf/core/dataframe.py:6775\u001b[0m, in \u001b[0;36mDataFrame.to_csv\u001b[0;34m(self, path_or_buf, sep, na_rep, columns, header, index, encoding, compression, lineterminator, chunksize, storage_options)\u001b[0m\n\u001b[1;32m   6773\u001b[0m \u001b[38;5;28;01mif\u001b[39;00m lineterminator \u001b[38;5;129;01mis\u001b[39;00m \u001b[38;5;28;01mNone\u001b[39;00m:\n\u001b[1;32m   6774\u001b[0m     lineterminator \u001b[38;5;241m=\u001b[39m os\u001b[38;5;241m.\u001b[39mlinesep\n\u001b[0;32m-> 6775\u001b[0m \u001b[38;5;28;01mreturn\u001b[39;00m \u001b[43mcsv\u001b[49m\u001b[38;5;241;43m.\u001b[39;49m\u001b[43mto_csv\u001b[49m\u001b[43m(\u001b[49m\n\u001b[1;32m   6776\u001b[0m \u001b[43m    \u001b[49m\u001b[38;5;28;43mself\u001b[39;49m\u001b[43m,\u001b[49m\n\u001b[1;32m   6777\u001b[0m \u001b[43m    \u001b[49m\u001b[43mpath_or_buf\u001b[49m\u001b[38;5;241;43m=\u001b[39;49m\u001b[43mpath_or_buf\u001b[49m\u001b[43m,\u001b[49m\n\u001b[1;32m   6778\u001b[0m \u001b[43m    \u001b[49m\u001b[43msep\u001b[49m\u001b[38;5;241;43m=\u001b[39;49m\u001b[43msep\u001b[49m\u001b[43m,\u001b[49m\n\u001b[1;32m   6779\u001b[0m \u001b[43m    \u001b[49m\u001b[43mna_rep\u001b[49m\u001b[38;5;241;43m=\u001b[39;49m\u001b[43mna_rep\u001b[49m\u001b[43m,\u001b[49m\n\u001b[1;32m   6780\u001b[0m \u001b[43m    \u001b[49m\u001b[43mcolumns\u001b[49m\u001b[38;5;241;43m=\u001b[39;49m\u001b[43mcolumns\u001b[49m\u001b[43m,\u001b[49m\n\u001b[1;32m   6781\u001b[0m \u001b[43m    \u001b[49m\u001b[43mheader\u001b[49m\u001b[38;5;241;43m=\u001b[39;49m\u001b[43mheader\u001b[49m\u001b[43m,\u001b[49m\n\u001b[1;32m   6782\u001b[0m \u001b[43m    \u001b[49m\u001b[43mindex\u001b[49m\u001b[38;5;241;43m=\u001b[39;49m\u001b[43mindex\u001b[49m\u001b[43m,\u001b[49m\n\u001b[1;32m   6783\u001b[0m \u001b[43m    \u001b[49m\u001b[43mlineterminator\u001b[49m\u001b[38;5;241;43m=\u001b[39;49m\u001b[43mlineterminator\u001b[49m\u001b[43m,\u001b[49m\n\u001b[1;32m   6784\u001b[0m \u001b[43m    \u001b[49m\u001b[43mchunksize\u001b[49m\u001b[38;5;241;43m=\u001b[39;49m\u001b[43mchunksize\u001b[49m\u001b[43m,\u001b[49m\n\u001b[1;32m   6785\u001b[0m \u001b[43m    \u001b[49m\u001b[43mencoding\u001b[49m\u001b[38;5;241;43m=\u001b[39;49m\u001b[43mencoding\u001b[49m\u001b[43m,\u001b[49m\n\u001b[1;32m   6786\u001b[0m \u001b[43m    \u001b[49m\u001b[43mcompression\u001b[49m\u001b[38;5;241;43m=\u001b[39;49m\u001b[43mcompression\u001b[49m\u001b[43m,\u001b[49m\n\u001b[1;32m   6787\u001b[0m \u001b[43m    \u001b[49m\u001b[43mstorage_options\u001b[49m\u001b[38;5;241;43m=\u001b[39;49m\u001b[43mstorage_options\u001b[49m\u001b[43m,\u001b[49m\n\u001b[1;32m   6788\u001b[0m \u001b[43m\u001b[49m\u001b[43m)\u001b[49m\n",
      "File \u001b[0;32m/raid/manass/miniconda3/envs/rapids-24.06/lib/python3.11/site-packages/nvtx/nvtx.py:116\u001b[0m, in \u001b[0;36mannotate.__call__.<locals>.inner\u001b[0;34m(*args, **kwargs)\u001b[0m\n\u001b[1;32m    113\u001b[0m \u001b[38;5;129m@wraps\u001b[39m(func)\n\u001b[1;32m    114\u001b[0m \u001b[38;5;28;01mdef\u001b[39;00m \u001b[38;5;21minner\u001b[39m(\u001b[38;5;241m*\u001b[39margs, \u001b[38;5;241m*\u001b[39m\u001b[38;5;241m*\u001b[39mkwargs):\n\u001b[1;32m    115\u001b[0m     libnvtx_push_range(\u001b[38;5;28mself\u001b[39m\u001b[38;5;241m.\u001b[39mattributes, \u001b[38;5;28mself\u001b[39m\u001b[38;5;241m.\u001b[39mdomain\u001b[38;5;241m.\u001b[39mhandle)\n\u001b[0;32m--> 116\u001b[0m     result \u001b[38;5;241m=\u001b[39m \u001b[43mfunc\u001b[49m\u001b[43m(\u001b[49m\u001b[38;5;241;43m*\u001b[39;49m\u001b[43margs\u001b[49m\u001b[43m,\u001b[49m\u001b[43m \u001b[49m\u001b[38;5;241;43m*\u001b[39;49m\u001b[38;5;241;43m*\u001b[39;49m\u001b[43mkwargs\u001b[49m\u001b[43m)\u001b[49m\n\u001b[1;32m    117\u001b[0m     libnvtx_pop_range(\u001b[38;5;28mself\u001b[39m\u001b[38;5;241m.\u001b[39mdomain\u001b[38;5;241m.\u001b[39mhandle)\n\u001b[1;32m    118\u001b[0m     \u001b[38;5;28;01mreturn\u001b[39;00m result\n",
      "File \u001b[0;32m/raid/manass/miniconda3/envs/rapids-24.06/lib/python3.11/site-packages/cudf/io/csv.py:250\u001b[0m, in \u001b[0;36mto_csv\u001b[0;34m(df, path_or_buf, sep, na_rep, columns, header, index, encoding, compression, lineterminator, chunksize, storage_options)\u001b[0m\n\u001b[1;32m    239\u001b[0m         libcudf\u001b[38;5;241m.\u001b[39mcsv\u001b[38;5;241m.\u001b[39mwrite_csv(\n\u001b[1;32m    240\u001b[0m             df,\n\u001b[1;32m    241\u001b[0m             path_or_buf\u001b[38;5;241m=\u001b[39mfile_obj,\n\u001b[0;32m   (...)\u001b[0m\n\u001b[1;32m    247\u001b[0m             index\u001b[38;5;241m=\u001b[39mindex,\n\u001b[1;32m    248\u001b[0m         )\n\u001b[1;32m    249\u001b[0m \u001b[38;5;28;01melse\u001b[39;00m:\n\u001b[0;32m--> 250\u001b[0m     \u001b[43mlibcudf\u001b[49m\u001b[38;5;241;43m.\u001b[39;49m\u001b[43mcsv\u001b[49m\u001b[38;5;241;43m.\u001b[39;49m\u001b[43mwrite_csv\u001b[49m\u001b[43m(\u001b[49m\n\u001b[1;32m    251\u001b[0m \u001b[43m        \u001b[49m\u001b[43mdf\u001b[49m\u001b[43m,\u001b[49m\n\u001b[1;32m    252\u001b[0m \u001b[43m        \u001b[49m\u001b[43mpath_or_buf\u001b[49m\u001b[38;5;241;43m=\u001b[39;49m\u001b[43mpath_or_buf\u001b[49m\u001b[43m,\u001b[49m\n\u001b[1;32m    253\u001b[0m \u001b[43m        \u001b[49m\u001b[43msep\u001b[49m\u001b[38;5;241;43m=\u001b[39;49m\u001b[43msep\u001b[49m\u001b[43m,\u001b[49m\n\u001b[1;32m    254\u001b[0m \u001b[43m        \u001b[49m\u001b[43mna_rep\u001b[49m\u001b[38;5;241;43m=\u001b[39;49m\u001b[43mna_rep\u001b[49m\u001b[43m,\u001b[49m\n\u001b[1;32m    255\u001b[0m \u001b[43m        \u001b[49m\u001b[43mheader\u001b[49m\u001b[38;5;241;43m=\u001b[39;49m\u001b[43mheader\u001b[49m\u001b[43m,\u001b[49m\n\u001b[1;32m    256\u001b[0m \u001b[43m        \u001b[49m\u001b[43mlineterminator\u001b[49m\u001b[38;5;241;43m=\u001b[39;49m\u001b[43mlineterminator\u001b[49m\u001b[43m,\u001b[49m\n\u001b[1;32m    257\u001b[0m \u001b[43m        \u001b[49m\u001b[43mrows_per_chunk\u001b[49m\u001b[38;5;241;43m=\u001b[39;49m\u001b[43mrows_per_chunk\u001b[49m\u001b[43m,\u001b[49m\n\u001b[1;32m    258\u001b[0m \u001b[43m        \u001b[49m\u001b[43mindex\u001b[49m\u001b[38;5;241;43m=\u001b[39;49m\u001b[43mindex\u001b[49m\u001b[43m,\u001b[49m\n\u001b[1;32m    259\u001b[0m \u001b[43m    \u001b[49m\u001b[43m)\u001b[49m\n\u001b[1;32m    261\u001b[0m \u001b[38;5;28;01mif\u001b[39;00m return_as_string:\n\u001b[1;32m    262\u001b[0m     path_or_buf\u001b[38;5;241m.\u001b[39mseek(\u001b[38;5;241m0\u001b[39m)\n",
      "File \u001b[0;32m/raid/manass/miniconda3/envs/rapids-24.06/lib/python3.11/contextlib.py:81\u001b[0m, in \u001b[0;36mContextDecorator.__call__.<locals>.inner\u001b[0;34m(*args, **kwds)\u001b[0m\n\u001b[1;32m     78\u001b[0m \u001b[38;5;129m@wraps\u001b[39m(func)\n\u001b[1;32m     79\u001b[0m \u001b[38;5;28;01mdef\u001b[39;00m \u001b[38;5;21minner\u001b[39m(\u001b[38;5;241m*\u001b[39margs, \u001b[38;5;241m*\u001b[39m\u001b[38;5;241m*\u001b[39mkwds):\n\u001b[1;32m     80\u001b[0m     \u001b[38;5;28;01mwith\u001b[39;00m \u001b[38;5;28mself\u001b[39m\u001b[38;5;241m.\u001b[39m_recreate_cm():\n\u001b[0;32m---> 81\u001b[0m         \u001b[38;5;28;01mreturn\u001b[39;00m \u001b[43mfunc\u001b[49m\u001b[43m(\u001b[49m\u001b[38;5;241;43m*\u001b[39;49m\u001b[43margs\u001b[49m\u001b[43m,\u001b[49m\u001b[43m \u001b[49m\u001b[38;5;241;43m*\u001b[39;49m\u001b[38;5;241;43m*\u001b[39;49m\u001b[43mkwds\u001b[49m\u001b[43m)\u001b[49m\n",
      "File \u001b[0;32mcsv.pyx:547\u001b[0m, in \u001b[0;36mcudf._lib.csv.write_csv\u001b[0;34m()\u001b[0m\n",
      "\u001b[0;31mOverflowError\u001b[0m: Writing CSV file with chunksize=130984859 failed. Consider providing a smaller chunksize argument."
     ]
    }
   ],
   "source": [
    "gdf.to_csv(\"/raid/manass/cudf/data/quarter_transactions.csv\")"
   ]
  },
  {
   "cell_type": "code",
   "execution_count": 13,
   "id": "62e93815-d5f3-40cb-9653-15b61e1490db",
   "metadata": {},
   "outputs": [
    {
     "ename": "OverflowError",
     "evalue": "Writing CSV file with chunksize=65492429 failed. Consider providing a smaller chunksize argument.",
     "output_type": "error",
     "traceback": [
      "\u001b[0;31m---------------------------------------------------------------------------\u001b[0m",
      "\u001b[0;31mOverflowError\u001b[0m                             Traceback (most recent call last)",
      "File \u001b[0;32mcsv.pyx:545\u001b[0m, in \u001b[0;36mcudf._lib.csv.write_csv\u001b[0;34m()\u001b[0m\n",
      "\u001b[0;31mOverflowError\u001b[0m: CUDF failure at: /opt/conda/conda-bld/work/cpp/include/cudf/strings/detail/strings_children.cuh:85: Size of output exceeds the column size limit",
      "\nDuring handling of the above exception, another exception occurred:\n",
      "\u001b[0;31mOverflowError\u001b[0m                             Traceback (most recent call last)",
      "Cell \u001b[0;32mIn[13], line 1\u001b[0m\n\u001b[0;32m----> 1\u001b[0m \u001b[43mgdf_small\u001b[49m\u001b[38;5;241;43m.\u001b[39;49m\u001b[43mto_csv\u001b[49m\u001b[43m(\u001b[49m\u001b[38;5;124;43m\"\u001b[39;49m\u001b[38;5;124;43m/raid/manass/cudf/data/quarter_transactions.csv\u001b[39;49m\u001b[38;5;124;43m\"\u001b[39;49m\u001b[43m)\u001b[49m\n",
      "File \u001b[0;32m/raid/manass/miniconda3/envs/rapids-24.06/lib/python3.11/site-packages/cudf/core/dataframe.py:6775\u001b[0m, in \u001b[0;36mDataFrame.to_csv\u001b[0;34m(self, path_or_buf, sep, na_rep, columns, header, index, encoding, compression, lineterminator, chunksize, storage_options)\u001b[0m\n\u001b[1;32m   6773\u001b[0m \u001b[38;5;28;01mif\u001b[39;00m lineterminator \u001b[38;5;129;01mis\u001b[39;00m \u001b[38;5;28;01mNone\u001b[39;00m:\n\u001b[1;32m   6774\u001b[0m     lineterminator \u001b[38;5;241m=\u001b[39m os\u001b[38;5;241m.\u001b[39mlinesep\n\u001b[0;32m-> 6775\u001b[0m \u001b[38;5;28;01mreturn\u001b[39;00m \u001b[43mcsv\u001b[49m\u001b[38;5;241;43m.\u001b[39;49m\u001b[43mto_csv\u001b[49m\u001b[43m(\u001b[49m\n\u001b[1;32m   6776\u001b[0m \u001b[43m    \u001b[49m\u001b[38;5;28;43mself\u001b[39;49m\u001b[43m,\u001b[49m\n\u001b[1;32m   6777\u001b[0m \u001b[43m    \u001b[49m\u001b[43mpath_or_buf\u001b[49m\u001b[38;5;241;43m=\u001b[39;49m\u001b[43mpath_or_buf\u001b[49m\u001b[43m,\u001b[49m\n\u001b[1;32m   6778\u001b[0m \u001b[43m    \u001b[49m\u001b[43msep\u001b[49m\u001b[38;5;241;43m=\u001b[39;49m\u001b[43msep\u001b[49m\u001b[43m,\u001b[49m\n\u001b[1;32m   6779\u001b[0m \u001b[43m    \u001b[49m\u001b[43mna_rep\u001b[49m\u001b[38;5;241;43m=\u001b[39;49m\u001b[43mna_rep\u001b[49m\u001b[43m,\u001b[49m\n\u001b[1;32m   6780\u001b[0m \u001b[43m    \u001b[49m\u001b[43mcolumns\u001b[49m\u001b[38;5;241;43m=\u001b[39;49m\u001b[43mcolumns\u001b[49m\u001b[43m,\u001b[49m\n\u001b[1;32m   6781\u001b[0m \u001b[43m    \u001b[49m\u001b[43mheader\u001b[49m\u001b[38;5;241;43m=\u001b[39;49m\u001b[43mheader\u001b[49m\u001b[43m,\u001b[49m\n\u001b[1;32m   6782\u001b[0m \u001b[43m    \u001b[49m\u001b[43mindex\u001b[49m\u001b[38;5;241;43m=\u001b[39;49m\u001b[43mindex\u001b[49m\u001b[43m,\u001b[49m\n\u001b[1;32m   6783\u001b[0m \u001b[43m    \u001b[49m\u001b[43mlineterminator\u001b[49m\u001b[38;5;241;43m=\u001b[39;49m\u001b[43mlineterminator\u001b[49m\u001b[43m,\u001b[49m\n\u001b[1;32m   6784\u001b[0m \u001b[43m    \u001b[49m\u001b[43mchunksize\u001b[49m\u001b[38;5;241;43m=\u001b[39;49m\u001b[43mchunksize\u001b[49m\u001b[43m,\u001b[49m\n\u001b[1;32m   6785\u001b[0m \u001b[43m    \u001b[49m\u001b[43mencoding\u001b[49m\u001b[38;5;241;43m=\u001b[39;49m\u001b[43mencoding\u001b[49m\u001b[43m,\u001b[49m\n\u001b[1;32m   6786\u001b[0m \u001b[43m    \u001b[49m\u001b[43mcompression\u001b[49m\u001b[38;5;241;43m=\u001b[39;49m\u001b[43mcompression\u001b[49m\u001b[43m,\u001b[49m\n\u001b[1;32m   6787\u001b[0m \u001b[43m    \u001b[49m\u001b[43mstorage_options\u001b[49m\u001b[38;5;241;43m=\u001b[39;49m\u001b[43mstorage_options\u001b[49m\u001b[43m,\u001b[49m\n\u001b[1;32m   6788\u001b[0m \u001b[43m\u001b[49m\u001b[43m)\u001b[49m\n",
      "File \u001b[0;32m/raid/manass/miniconda3/envs/rapids-24.06/lib/python3.11/site-packages/nvtx/nvtx.py:116\u001b[0m, in \u001b[0;36mannotate.__call__.<locals>.inner\u001b[0;34m(*args, **kwargs)\u001b[0m\n\u001b[1;32m    113\u001b[0m \u001b[38;5;129m@wraps\u001b[39m(func)\n\u001b[1;32m    114\u001b[0m \u001b[38;5;28;01mdef\u001b[39;00m \u001b[38;5;21minner\u001b[39m(\u001b[38;5;241m*\u001b[39margs, \u001b[38;5;241m*\u001b[39m\u001b[38;5;241m*\u001b[39mkwargs):\n\u001b[1;32m    115\u001b[0m     libnvtx_push_range(\u001b[38;5;28mself\u001b[39m\u001b[38;5;241m.\u001b[39mattributes, \u001b[38;5;28mself\u001b[39m\u001b[38;5;241m.\u001b[39mdomain\u001b[38;5;241m.\u001b[39mhandle)\n\u001b[0;32m--> 116\u001b[0m     result \u001b[38;5;241m=\u001b[39m \u001b[43mfunc\u001b[49m\u001b[43m(\u001b[49m\u001b[38;5;241;43m*\u001b[39;49m\u001b[43margs\u001b[49m\u001b[43m,\u001b[49m\u001b[43m \u001b[49m\u001b[38;5;241;43m*\u001b[39;49m\u001b[38;5;241;43m*\u001b[39;49m\u001b[43mkwargs\u001b[49m\u001b[43m)\u001b[49m\n\u001b[1;32m    117\u001b[0m     libnvtx_pop_range(\u001b[38;5;28mself\u001b[39m\u001b[38;5;241m.\u001b[39mdomain\u001b[38;5;241m.\u001b[39mhandle)\n\u001b[1;32m    118\u001b[0m     \u001b[38;5;28;01mreturn\u001b[39;00m result\n",
      "File \u001b[0;32m/raid/manass/miniconda3/envs/rapids-24.06/lib/python3.11/site-packages/cudf/io/csv.py:250\u001b[0m, in \u001b[0;36mto_csv\u001b[0;34m(df, path_or_buf, sep, na_rep, columns, header, index, encoding, compression, lineterminator, chunksize, storage_options)\u001b[0m\n\u001b[1;32m    239\u001b[0m         libcudf\u001b[38;5;241m.\u001b[39mcsv\u001b[38;5;241m.\u001b[39mwrite_csv(\n\u001b[1;32m    240\u001b[0m             df,\n\u001b[1;32m    241\u001b[0m             path_or_buf\u001b[38;5;241m=\u001b[39mfile_obj,\n\u001b[0;32m   (...)\u001b[0m\n\u001b[1;32m    247\u001b[0m             index\u001b[38;5;241m=\u001b[39mindex,\n\u001b[1;32m    248\u001b[0m         )\n\u001b[1;32m    249\u001b[0m \u001b[38;5;28;01melse\u001b[39;00m:\n\u001b[0;32m--> 250\u001b[0m     \u001b[43mlibcudf\u001b[49m\u001b[38;5;241;43m.\u001b[39;49m\u001b[43mcsv\u001b[49m\u001b[38;5;241;43m.\u001b[39;49m\u001b[43mwrite_csv\u001b[49m\u001b[43m(\u001b[49m\n\u001b[1;32m    251\u001b[0m \u001b[43m        \u001b[49m\u001b[43mdf\u001b[49m\u001b[43m,\u001b[49m\n\u001b[1;32m    252\u001b[0m \u001b[43m        \u001b[49m\u001b[43mpath_or_buf\u001b[49m\u001b[38;5;241;43m=\u001b[39;49m\u001b[43mpath_or_buf\u001b[49m\u001b[43m,\u001b[49m\n\u001b[1;32m    253\u001b[0m \u001b[43m        \u001b[49m\u001b[43msep\u001b[49m\u001b[38;5;241;43m=\u001b[39;49m\u001b[43msep\u001b[49m\u001b[43m,\u001b[49m\n\u001b[1;32m    254\u001b[0m \u001b[43m        \u001b[49m\u001b[43mna_rep\u001b[49m\u001b[38;5;241;43m=\u001b[39;49m\u001b[43mna_rep\u001b[49m\u001b[43m,\u001b[49m\n\u001b[1;32m    255\u001b[0m \u001b[43m        \u001b[49m\u001b[43mheader\u001b[49m\u001b[38;5;241;43m=\u001b[39;49m\u001b[43mheader\u001b[49m\u001b[43m,\u001b[49m\n\u001b[1;32m    256\u001b[0m \u001b[43m        \u001b[49m\u001b[43mlineterminator\u001b[49m\u001b[38;5;241;43m=\u001b[39;49m\u001b[43mlineterminator\u001b[49m\u001b[43m,\u001b[49m\n\u001b[1;32m    257\u001b[0m \u001b[43m        \u001b[49m\u001b[43mrows_per_chunk\u001b[49m\u001b[38;5;241;43m=\u001b[39;49m\u001b[43mrows_per_chunk\u001b[49m\u001b[43m,\u001b[49m\n\u001b[1;32m    258\u001b[0m \u001b[43m        \u001b[49m\u001b[43mindex\u001b[49m\u001b[38;5;241;43m=\u001b[39;49m\u001b[43mindex\u001b[49m\u001b[43m,\u001b[49m\n\u001b[1;32m    259\u001b[0m \u001b[43m    \u001b[49m\u001b[43m)\u001b[49m\n\u001b[1;32m    261\u001b[0m \u001b[38;5;28;01mif\u001b[39;00m return_as_string:\n\u001b[1;32m    262\u001b[0m     path_or_buf\u001b[38;5;241m.\u001b[39mseek(\u001b[38;5;241m0\u001b[39m)\n",
      "File \u001b[0;32m/raid/manass/miniconda3/envs/rapids-24.06/lib/python3.11/contextlib.py:81\u001b[0m, in \u001b[0;36mContextDecorator.__call__.<locals>.inner\u001b[0;34m(*args, **kwds)\u001b[0m\n\u001b[1;32m     78\u001b[0m \u001b[38;5;129m@wraps\u001b[39m(func)\n\u001b[1;32m     79\u001b[0m \u001b[38;5;28;01mdef\u001b[39;00m \u001b[38;5;21minner\u001b[39m(\u001b[38;5;241m*\u001b[39margs, \u001b[38;5;241m*\u001b[39m\u001b[38;5;241m*\u001b[39mkwds):\n\u001b[1;32m     80\u001b[0m     \u001b[38;5;28;01mwith\u001b[39;00m \u001b[38;5;28mself\u001b[39m\u001b[38;5;241m.\u001b[39m_recreate_cm():\n\u001b[0;32m---> 81\u001b[0m         \u001b[38;5;28;01mreturn\u001b[39;00m \u001b[43mfunc\u001b[49m\u001b[43m(\u001b[49m\u001b[38;5;241;43m*\u001b[39;49m\u001b[43margs\u001b[49m\u001b[43m,\u001b[49m\u001b[43m \u001b[49m\u001b[38;5;241;43m*\u001b[39;49m\u001b[38;5;241;43m*\u001b[39;49m\u001b[43mkwds\u001b[49m\u001b[43m)\u001b[49m\n",
      "File \u001b[0;32mcsv.pyx:547\u001b[0m, in \u001b[0;36mcudf._lib.csv.write_csv\u001b[0;34m()\u001b[0m\n",
      "\u001b[0;31mOverflowError\u001b[0m: Writing CSV file with chunksize=65492429 failed. Consider providing a smaller chunksize argument."
     ]
    }
   ],
   "source": [
    "gdf_small.to_csv(\"/raid/manass/cudf/data/quarter_transactions.csv\")"
   ]
  },
  {
   "cell_type": "markdown",
   "id": "97909e35-736e-462d-88f4-d60bf6dc7931",
   "metadata": {},
   "source": [
    "# Different processes with 8 GB data-"
   ]
  },
  {
   "cell_type": "markdown",
   "id": "69727c02-1210-4cb4-a499-4e3c1ee5c0a0",
   "metadata": {},
   "source": [
    "# Force to numeric-"
   ]
  },
  {
   "cell_type": "code",
   "execution_count": 14,
   "id": "003e5805-641d-41fd-9480-0447402aa63f",
   "metadata": {},
   "outputs": [
    {
     "name": "stdout",
     "output_type": "stream",
     "text": [
      "CPU times: user 17.1 ms, sys: 25.6 ms, total: 42.7 ms\n",
      "Wall time: 38.5 ms\n"
     ]
    }
   ],
   "source": [
    "%%time\n",
    "gdf_cust_transactions = gdf_cust_transactions[cudf.to_numeric(gdf_cust_transactions['AMOUNT'], errors='coerce').notna()]"
   ]
  },
  {
   "cell_type": "code",
   "execution_count": 15,
   "id": "664a9b22-f4ff-4e2b-a057-d9d39b18f634",
   "metadata": {},
   "outputs": [
    {
     "name": "stdout",
     "output_type": "stream",
     "text": [
      "CPU times: user 29.7 ms, sys: 24.4 ms, total: 54.1 ms\n",
      "Wall time: 51.4 ms\n"
     ]
    },
    {
     "data": {
      "text/html": [
       "<div>\n",
       "<style scoped>\n",
       "    .dataframe tbody tr th:only-of-type {\n",
       "        vertical-align: middle;\n",
       "    }\n",
       "\n",
       "    .dataframe tbody tr th {\n",
       "        vertical-align: top;\n",
       "    }\n",
       "\n",
       "    .dataframe thead th {\n",
       "        text-align: right;\n",
       "    }\n",
       "</style>\n",
       "<table border=\"1\" class=\"dataframe\">\n",
       "  <thead>\n",
       "    <tr style=\"text-align: right;\">\n",
       "      <th></th>\n",
       "      <th>Unnamed: 0</th>\n",
       "      <th>CUST_ID</th>\n",
       "      <th>START_DATE</th>\n",
       "      <th>END_DATE</th>\n",
       "      <th>TRANS_ID</th>\n",
       "      <th>DATE</th>\n",
       "      <th>YEAR</th>\n",
       "      <th>MONTH</th>\n",
       "      <th>DAY</th>\n",
       "      <th>EXP_TYPE</th>\n",
       "      <th>AMOUNT</th>\n",
       "      <th>CUST_ID_len</th>\n",
       "      <th>TRANS_ID_len</th>\n",
       "      <th>age</th>\n",
       "      <th>Income Level</th>\n",
       "    </tr>\n",
       "  </thead>\n",
       "  <tbody>\n",
       "    <tr>\n",
       "      <th>0</th>\n",
       "      <td>256</td>\n",
       "      <td>CI6XLYUMQK</td>\n",
       "      <td>2015-05-01</td>\n",
       "      <td>&lt;NA&gt;</td>\n",
       "      <td>T29K3BZ6FST1LJS</td>\n",
       "      <td>2017-06-01</td>\n",
       "      <td>2017</td>\n",
       "      <td>6</td>\n",
       "      <td>1</td>\n",
       "      <td>Groceries</td>\n",
       "      <td>7.89</td>\n",
       "      <td>10</td>\n",
       "      <td>15</td>\n",
       "      <td>69</td>\n",
       "      <td>Between 25K and 100K</td>\n",
       "    </tr>\n",
       "    <tr>\n",
       "      <th>18</th>\n",
       "      <td>5634</td>\n",
       "      <td>CF7T5CWU3D</td>\n",
       "      <td>2015-11-01</td>\n",
       "      <td>&lt;NA&gt;</td>\n",
       "      <td>TP27RDM0KB5APMU</td>\n",
       "      <td>2018-04-24</td>\n",
       "      <td>2018</td>\n",
       "      <td>4</td>\n",
       "      <td>24</td>\n",
       "      <td>Groceries</td>\n",
       "      <td>27.51</td>\n",
       "      <td>10</td>\n",
       "      <td>15</td>\n",
       "      <td>50</td>\n",
       "      <td>Greater than 100K</td>\n",
       "    </tr>\n",
       "    <tr>\n",
       "      <th>19</th>\n",
       "      <td>5635</td>\n",
       "      <td>CF7T5CWU3D</td>\n",
       "      <td>2015-11-01</td>\n",
       "      <td>&lt;NA&gt;</td>\n",
       "      <td>TXMGAJUQIEV9HQ1</td>\n",
       "      <td>2018-06-16</td>\n",
       "      <td>2018</td>\n",
       "      <td>6</td>\n",
       "      <td>16</td>\n",
       "      <td>Groceries</td>\n",
       "      <td>33.59</td>\n",
       "      <td>10</td>\n",
       "      <td>15</td>\n",
       "      <td>50</td>\n",
       "      <td>Greater than 100K</td>\n",
       "    </tr>\n",
       "    <tr>\n",
       "      <th>21</th>\n",
       "      <td>5637</td>\n",
       "      <td>CF7T5CWU3D</td>\n",
       "      <td>2015-11-01</td>\n",
       "      <td>&lt;NA&gt;</td>\n",
       "      <td>TJ9AAL7BD5SL6IM</td>\n",
       "      <td>2017-09-08</td>\n",
       "      <td>2017</td>\n",
       "      <td>9</td>\n",
       "      <td>8</td>\n",
       "      <td>Groceries</td>\n",
       "      <td>38.32</td>\n",
       "      <td>10</td>\n",
       "      <td>15</td>\n",
       "      <td>50</td>\n",
       "      <td>Greater than 100K</td>\n",
       "    </tr>\n",
       "    <tr>\n",
       "      <th>22</th>\n",
       "      <td>5638</td>\n",
       "      <td>CF7T5CWU3D</td>\n",
       "      <td>2015-11-01</td>\n",
       "      <td>&lt;NA&gt;</td>\n",
       "      <td>TGHX2EFFSO1S62V</td>\n",
       "      <td>2017-06-07</td>\n",
       "      <td>2017</td>\n",
       "      <td>6</td>\n",
       "      <td>7</td>\n",
       "      <td>Groceries</td>\n",
       "      <td>46.60</td>\n",
       "      <td>10</td>\n",
       "      <td>15</td>\n",
       "      <td>50</td>\n",
       "      <td>Greater than 100K</td>\n",
       "    </tr>\n",
       "    <tr>\n",
       "      <th>...</th>\n",
       "      <td>...</td>\n",
       "      <td>...</td>\n",
       "      <td>...</td>\n",
       "      <td>...</td>\n",
       "      <td>...</td>\n",
       "      <td>...</td>\n",
       "      <td>...</td>\n",
       "      <td>...</td>\n",
       "      <td>...</td>\n",
       "      <td>...</td>\n",
       "      <td>...</td>\n",
       "      <td>...</td>\n",
       "      <td>...</td>\n",
       "      <td>...</td>\n",
       "      <td>...</td>\n",
       "    </tr>\n",
       "    <tr>\n",
       "      <th>65492394</th>\n",
       "      <td>65486925</td>\n",
       "      <td>C25NX0HIW5</td>\n",
       "      <td>2013-02-01</td>\n",
       "      <td>2020-11-01</td>\n",
       "      <td>TY61I5RFKBHWB1K</td>\n",
       "      <td>2014-07-18</td>\n",
       "      <td>2014</td>\n",
       "      <td>7</td>\n",
       "      <td>18</td>\n",
       "      <td>Groceries</td>\n",
       "      <td>188.24</td>\n",
       "      <td>10</td>\n",
       "      <td>15</td>\n",
       "      <td>69</td>\n",
       "      <td>Between 10K and 25K</td>\n",
       "    </tr>\n",
       "    <tr>\n",
       "      <th>65492397</th>\n",
       "      <td>65486928</td>\n",
       "      <td>C25NX0HIW5</td>\n",
       "      <td>2013-02-01</td>\n",
       "      <td>2020-11-01</td>\n",
       "      <td>TWLJW4JPGXYWSH7</td>\n",
       "      <td>2015-02-19</td>\n",
       "      <td>2015</td>\n",
       "      <td>2</td>\n",
       "      <td>19</td>\n",
       "      <td>Groceries</td>\n",
       "      <td>184.55</td>\n",
       "      <td>10</td>\n",
       "      <td>15</td>\n",
       "      <td>69</td>\n",
       "      <td>Between 10K and 25K</td>\n",
       "    </tr>\n",
       "    <tr>\n",
       "      <th>65492416</th>\n",
       "      <td>65487909</td>\n",
       "      <td>CM9VR46CFD</td>\n",
       "      <td>2014-07-01</td>\n",
       "      <td>&lt;NA&gt;</td>\n",
       "      <td>TO85I82T72KPTIC</td>\n",
       "      <td>2019-08-10</td>\n",
       "      <td>2019</td>\n",
       "      <td>8</td>\n",
       "      <td>10</td>\n",
       "      <td>Groceries</td>\n",
       "      <td>48.16</td>\n",
       "      <td>10</td>\n",
       "      <td>15</td>\n",
       "      <td>72</td>\n",
       "      <td>Between 25K and 100K</td>\n",
       "    </tr>\n",
       "    <tr>\n",
       "      <th>65492418</th>\n",
       "      <td>65487911</td>\n",
       "      <td>CM9VR46CFD</td>\n",
       "      <td>2014-07-01</td>\n",
       "      <td>&lt;NA&gt;</td>\n",
       "      <td>TMEINW15FB1ZZBY</td>\n",
       "      <td>2014-07-24</td>\n",
       "      <td>2014</td>\n",
       "      <td>7</td>\n",
       "      <td>24</td>\n",
       "      <td>Groceries</td>\n",
       "      <td>59.75</td>\n",
       "      <td>10</td>\n",
       "      <td>15</td>\n",
       "      <td>72</td>\n",
       "      <td>Between 25K and 100K</td>\n",
       "    </tr>\n",
       "    <tr>\n",
       "      <th>65492420</th>\n",
       "      <td>65487913</td>\n",
       "      <td>CM9VR46CFD</td>\n",
       "      <td>2014-07-01</td>\n",
       "      <td>&lt;NA&gt;</td>\n",
       "      <td>TOMAFOG22T1SH0E</td>\n",
       "      <td>2018-01-15</td>\n",
       "      <td>2018</td>\n",
       "      <td>1</td>\n",
       "      <td>15</td>\n",
       "      <td>Groceries</td>\n",
       "      <td>42.88</td>\n",
       "      <td>10</td>\n",
       "      <td>15</td>\n",
       "      <td>72</td>\n",
       "      <td>Between 25K and 100K</td>\n",
       "    </tr>\n",
       "  </tbody>\n",
       "</table>\n",
       "<p>10850080 rows × 15 columns</p>\n",
       "</div>"
      ],
      "text/plain": [
       "          Unnamed: 0     CUST_ID  START_DATE    END_DATE         TRANS_ID  \\\n",
       "0                256  CI6XLYUMQK  2015-05-01        <NA>  T29K3BZ6FST1LJS   \n",
       "18              5634  CF7T5CWU3D  2015-11-01        <NA>  TP27RDM0KB5APMU   \n",
       "19              5635  CF7T5CWU3D  2015-11-01        <NA>  TXMGAJUQIEV9HQ1   \n",
       "21              5637  CF7T5CWU3D  2015-11-01        <NA>  TJ9AAL7BD5SL6IM   \n",
       "22              5638  CF7T5CWU3D  2015-11-01        <NA>  TGHX2EFFSO1S62V   \n",
       "...              ...         ...         ...         ...              ...   \n",
       "65492394    65486925  C25NX0HIW5  2013-02-01  2020-11-01  TY61I5RFKBHWB1K   \n",
       "65492397    65486928  C25NX0HIW5  2013-02-01  2020-11-01  TWLJW4JPGXYWSH7   \n",
       "65492416    65487909  CM9VR46CFD  2014-07-01        <NA>  TO85I82T72KPTIC   \n",
       "65492418    65487911  CM9VR46CFD  2014-07-01        <NA>  TMEINW15FB1ZZBY   \n",
       "65492420    65487913  CM9VR46CFD  2014-07-01        <NA>  TOMAFOG22T1SH0E   \n",
       "\n",
       "                DATE  YEAR  MONTH  DAY   EXP_TYPE  AMOUNT  CUST_ID_len  \\\n",
       "0         2017-06-01  2017      6    1  Groceries    7.89           10   \n",
       "18        2018-04-24  2018      4   24  Groceries   27.51           10   \n",
       "19        2018-06-16  2018      6   16  Groceries   33.59           10   \n",
       "21        2017-09-08  2017      9    8  Groceries   38.32           10   \n",
       "22        2017-06-07  2017      6    7  Groceries   46.60           10   \n",
       "...              ...   ...    ...  ...        ...     ...          ...   \n",
       "65492394  2014-07-18  2014      7   18  Groceries  188.24           10   \n",
       "65492397  2015-02-19  2015      2   19  Groceries  184.55           10   \n",
       "65492416  2019-08-10  2019      8   10  Groceries   48.16           10   \n",
       "65492418  2014-07-24  2014      7   24  Groceries   59.75           10   \n",
       "65492420  2018-01-15  2018      1   15  Groceries   42.88           10   \n",
       "\n",
       "          TRANS_ID_len  age          Income Level  \n",
       "0                   15   69  Between 25K and 100K  \n",
       "18                  15   50     Greater than 100K  \n",
       "19                  15   50     Greater than 100K  \n",
       "21                  15   50     Greater than 100K  \n",
       "22                  15   50     Greater than 100K  \n",
       "...                ...  ...                   ...  \n",
       "65492394            15   69   Between 10K and 25K  \n",
       "65492397            15   69   Between 10K and 25K  \n",
       "65492416            15   72  Between 25K and 100K  \n",
       "65492418            15   72  Between 25K and 100K  \n",
       "65492420            15   72  Between 25K and 100K  \n",
       "\n",
       "[10850080 rows x 15 columns]"
      ]
     },
     "execution_count": 15,
     "metadata": {},
     "output_type": "execute_result"
    }
   ],
   "source": [
    "%%time\n",
    "gdf_cust_transactions[gdf_cust_transactions['EXP_TYPE'] == 'Groceries']"
   ]
  },
  {
   "cell_type": "markdown",
   "id": "3746628f-24d6-4790-917f-35b070b5b3b3",
   "metadata": {},
   "source": [
    "# cudf and pandas API look different here-"
   ]
  },
  {
   "cell_type": "markdown",
   "id": "d6a43569-76eb-4c68-be60-695c3bec0ae7",
   "metadata": {},
   "source": [
    "# Stack overflow and other online sources don't cover all the APIs -- \n",
    "# More users, better issue resolution, resulting in more users onboarding"
   ]
  },
  {
   "cell_type": "code",
   "execution_count": 19,
   "id": "cb89c034-325b-4545-8e1c-82d3b3c84b56",
   "metadata": {},
   "outputs": [
    {
     "ename": "TypeError",
     "evalue": "function is not supported for this dtype: mean",
     "output_type": "error",
     "traceback": [
      "\u001b[0;31m---------------------------------------------------------------------------\u001b[0m",
      "\u001b[0;31mTypeError\u001b[0m                                 Traceback (most recent call last)",
      "File \u001b[0;32m<timed eval>:2\u001b[0m\n",
      "File \u001b[0;32m/raid/manass/miniconda3/envs/rapids-24.06/lib/python3.11/site-packages/cudf/core/mixins/mixin_factory.py:11\u001b[0m, in \u001b[0;36m_partialmethod.<locals>.wrapper\u001b[0;34m(self, *args2, **kwargs2)\u001b[0m\n\u001b[1;32m     10\u001b[0m \u001b[38;5;28;01mdef\u001b[39;00m \u001b[38;5;21mwrapper\u001b[39m(\u001b[38;5;28mself\u001b[39m, \u001b[38;5;241m*\u001b[39margs2, \u001b[38;5;241m*\u001b[39m\u001b[38;5;241m*\u001b[39mkwargs2):\n\u001b[0;32m---> 11\u001b[0m     \u001b[38;5;28;01mreturn\u001b[39;00m \u001b[43mmethod\u001b[49m\u001b[43m(\u001b[49m\u001b[38;5;28;43mself\u001b[39;49m\u001b[43m,\u001b[49m\u001b[43m \u001b[49m\u001b[38;5;241;43m*\u001b[39;49m\u001b[43margs1\u001b[49m\u001b[43m,\u001b[49m\u001b[43m \u001b[49m\u001b[38;5;241;43m*\u001b[39;49m\u001b[43margs2\u001b[49m\u001b[43m,\u001b[49m\u001b[43m \u001b[49m\u001b[38;5;241;43m*\u001b[39;49m\u001b[38;5;241;43m*\u001b[39;49m\u001b[43mkwargs1\u001b[49m\u001b[43m,\u001b[49m\u001b[43m \u001b[49m\u001b[38;5;241;43m*\u001b[39;49m\u001b[38;5;241;43m*\u001b[39;49m\u001b[43mkwargs2\u001b[49m\u001b[43m)\u001b[49m\n",
      "File \u001b[0;32m/raid/manass/miniconda3/envs/rapids-24.06/lib/python3.11/site-packages/cudf/core/groupby/groupby.py:759\u001b[0m, in \u001b[0;36mGroupBy._reduce\u001b[0;34m(self, op, numeric_only, min_count, *args, **kwargs)\u001b[0m\n\u001b[1;32m    757\u001b[0m \u001b[38;5;28;01mif\u001b[39;00m numeric_only:\n\u001b[1;32m    758\u001b[0m     \u001b[38;5;28;01mreturn\u001b[39;00m \u001b[38;5;28mself\u001b[39m\u001b[38;5;241m.\u001b[39m_reduce_numeric_only(op)\n\u001b[0;32m--> 759\u001b[0m \u001b[38;5;28;01mreturn\u001b[39;00m \u001b[38;5;28;43mself\u001b[39;49m\u001b[38;5;241;43m.\u001b[39;49m\u001b[43magg\u001b[49m\u001b[43m(\u001b[49m\u001b[43mop\u001b[49m\u001b[43m)\u001b[49m\n",
      "File \u001b[0;32m/raid/manass/miniconda3/envs/rapids-24.06/lib/python3.11/site-packages/nvtx/nvtx.py:116\u001b[0m, in \u001b[0;36mannotate.__call__.<locals>.inner\u001b[0;34m(*args, **kwargs)\u001b[0m\n\u001b[1;32m    113\u001b[0m \u001b[38;5;129m@wraps\u001b[39m(func)\n\u001b[1;32m    114\u001b[0m \u001b[38;5;28;01mdef\u001b[39;00m \u001b[38;5;21minner\u001b[39m(\u001b[38;5;241m*\u001b[39margs, \u001b[38;5;241m*\u001b[39m\u001b[38;5;241m*\u001b[39mkwargs):\n\u001b[1;32m    115\u001b[0m     libnvtx_push_range(\u001b[38;5;28mself\u001b[39m\u001b[38;5;241m.\u001b[39mattributes, \u001b[38;5;28mself\u001b[39m\u001b[38;5;241m.\u001b[39mdomain\u001b[38;5;241m.\u001b[39mhandle)\n\u001b[0;32m--> 116\u001b[0m     result \u001b[38;5;241m=\u001b[39m \u001b[43mfunc\u001b[49m\u001b[43m(\u001b[49m\u001b[38;5;241;43m*\u001b[39;49m\u001b[43margs\u001b[49m\u001b[43m,\u001b[49m\u001b[43m \u001b[49m\u001b[38;5;241;43m*\u001b[39;49m\u001b[38;5;241;43m*\u001b[39;49m\u001b[43mkwargs\u001b[49m\u001b[43m)\u001b[49m\n\u001b[1;32m    117\u001b[0m     libnvtx_pop_range(\u001b[38;5;28mself\u001b[39m\u001b[38;5;241m.\u001b[39mdomain\u001b[38;5;241m.\u001b[39mhandle)\n\u001b[1;32m    118\u001b[0m     \u001b[38;5;28;01mreturn\u001b[39;00m result\n",
      "File \u001b[0;32m/raid/manass/miniconda3/envs/rapids-24.06/lib/python3.11/site-packages/cudf/core/groupby/groupby.py:631\u001b[0m, in \u001b[0;36mGroupBy.agg\u001b[0;34m(self, func)\u001b[0m\n\u001b[1;32m    621\u001b[0m orig_dtypes \u001b[38;5;241m=\u001b[39m \u001b[38;5;28mtuple\u001b[39m(c\u001b[38;5;241m.\u001b[39mdtype \u001b[38;5;28;01mfor\u001b[39;00m c \u001b[38;5;129;01min\u001b[39;00m columns)\n\u001b[1;32m    623\u001b[0m \u001b[38;5;66;03m# Note: When there are no key columns, the below produces\u001b[39;00m\n\u001b[1;32m    624\u001b[0m \u001b[38;5;66;03m# an Index with float64 dtype, while Pandas returns\u001b[39;00m\n\u001b[1;32m    625\u001b[0m \u001b[38;5;66;03m# an Index with int64 dtype.\u001b[39;00m\n\u001b[1;32m    626\u001b[0m \u001b[38;5;66;03m# (GH: 6945)\u001b[39;00m\n\u001b[1;32m    627\u001b[0m (\n\u001b[1;32m    628\u001b[0m     result_columns,\n\u001b[1;32m    629\u001b[0m     grouped_key_cols,\n\u001b[1;32m    630\u001b[0m     included_aggregations,\n\u001b[0;32m--> 631\u001b[0m ) \u001b[38;5;241m=\u001b[39m \u001b[38;5;28;43mself\u001b[39;49m\u001b[38;5;241;43m.\u001b[39;49m\u001b[43m_groupby\u001b[49m\u001b[38;5;241;43m.\u001b[39;49m\u001b[43maggregate\u001b[49m\u001b[43m(\u001b[49m\u001b[43mcolumns\u001b[49m\u001b[43m,\u001b[49m\u001b[43m \u001b[49m\u001b[43mnormalized_aggs\u001b[49m\u001b[43m)\u001b[49m\n\u001b[1;32m    633\u001b[0m result_index \u001b[38;5;241m=\u001b[39m \u001b[38;5;28mself\u001b[39m\u001b[38;5;241m.\u001b[39mgrouping\u001b[38;5;241m.\u001b[39mkeys\u001b[38;5;241m.\u001b[39m_from_columns_like_self(\n\u001b[1;32m    634\u001b[0m     grouped_key_cols,\n\u001b[1;32m    635\u001b[0m )\n\u001b[1;32m    637\u001b[0m multilevel \u001b[38;5;241m=\u001b[39m _is_multi_agg(func)\n",
      "File \u001b[0;32mgroupby.pyx:192\u001b[0m, in \u001b[0;36mcudf._lib.groupby.GroupBy.aggregate\u001b[0;34m()\u001b[0m\n",
      "\u001b[0;31mTypeError\u001b[0m: function is not supported for this dtype: mean"
     ]
    }
   ],
   "source": [
    "%%time\n",
    "gdf_cust_transactions.groupby(['EXP_TYPE',\n",
    "    'age', 'Income Level']).mean()['AMOUNT']"
   ]
  },
  {
   "cell_type": "code",
   "execution_count": 21,
   "id": "1d3a6974-a3d3-4fb8-9358-67e30f07484d",
   "metadata": {},
   "outputs": [],
   "source": [
    "# The below worked as APIs are different designed-- "
   ]
  },
  {
   "cell_type": "code",
   "execution_count": 26,
   "id": "f6df5a52-ffd0-46e0-a20e-d859e5a953a7",
   "metadata": {},
   "outputs": [
    {
     "name": "stdout",
     "output_type": "stream",
     "text": [
      "CPU times: user 17.9 ms, sys: 7.27 ms, total: 25.2 ms\n",
      "Wall time: 22.3 ms\n"
     ]
    }
   ],
   "source": [
    "%%time\n",
    "result = gdf_cust_transactions.groupby([\n",
    "    'EXP_TYPE', 'age', 'Income Level'])[\n",
    "'AMOUNT'].mean().reset_index()"
   ]
  },
  {
   "cell_type": "code",
   "execution_count": 24,
   "id": "0145d67f-be9d-4591-a967-8a8de7a3500e",
   "metadata": {},
   "outputs": [
    {
     "name": "stdout",
     "output_type": "stream",
     "text": [
      "CPU times: user 18.1 ms, sys: 2.3 ms, total: 20.4 ms\n",
      "Wall time: 18.1 ms\n"
     ]
    },
    {
     "data": {
      "text/plain": [
       "CUST_ID\n",
       "C6JC5K02HA    2178693.53\n",
       "CR5558CHPJ    2092671.99\n",
       "CA9UYOQ5DA    2028950.49\n",
       "C6CWQR20K0    2016848.91\n",
       "CDZKNLWO3Z    1901449.01\n",
       "                 ...    \n",
       "CCOX3VE7UC       9656.74\n",
       "CBK5I605HN       9370.76\n",
       "CIY6HO4JXR       9317.51\n",
       "C29J7JQBQX       8974.90\n",
       "CN2GN4FJ2Q       8112.56\n",
       "Name: AMOUNT, Length: 17890, dtype: float64"
      ]
     },
     "execution_count": 24,
     "metadata": {},
     "output_type": "execute_result"
    }
   ],
   "source": [
    "%%time\n",
    "gdf_cust_transactions.groupby('CUST_ID')[\n",
    "'AMOUNT'].sum().sort_values(ascending=False)"
   ]
  },
  {
   "cell_type": "code",
   "execution_count": 43,
   "id": "0dc23a2a-0ea4-43f4-8a94-053fa68edf5c",
   "metadata": {},
   "outputs": [],
   "source": [
    "def calculate_tax(row):\n",
    "    # Placeholder tax calculation\n",
    "    return row['AMOUNT'] * (1.0-0.3) if row['EXP_TYPE'] == 'Groceries' else 0"
   ]
  },
  {
   "cell_type": "markdown",
   "id": "b2e6c236-f270-41d7-ae81-86769c8256d3",
   "metadata": {},
   "source": [
    "# Does not support rown wise operations (axis = 0)"
   ]
  },
  {
   "cell_type": "code",
   "execution_count": 44,
   "id": "ea7436c6-3fe1-46e0-bac6-9ae7f05b3e11",
   "metadata": {},
   "outputs": [
    {
     "name": "stdout",
     "output_type": "stream",
     "text": [
      "CPU times: user 27.6 ms, sys: 10.2 ms, total: 37.8 ms\n",
      "Wall time: 34.9 ms\n"
     ]
    }
   ],
   "source": [
    "%%time\n",
    "gdf_cust_transactions['adjusted_income'] = gdf_cust_transactions.apply(calculate_tax, axis=1)"
   ]
  },
  {
   "cell_type": "markdown",
   "id": "9dc29f35-f897-4b06-9681-074a00323bab",
   "metadata": {},
   "source": [
    "# Rolling average"
   ]
  },
  {
   "cell_type": "markdown",
   "id": "d25f7e49-d57a-474c-bfb5-f16f5d2a01a5",
   "metadata": {},
   "source": [
    "Just had to change df_cust_transactions to gdf_cust_transactions and it worked!"
   ]
  },
  {
   "cell_type": "code",
   "execution_count": 45,
   "id": "0c1208a5-8370-4dea-a923-b1eaa8906862",
   "metadata": {},
   "outputs": [
    {
     "name": "stdout",
     "output_type": "stream",
     "text": [
      "CPU times: user 655 ms, sys: 0 ns, total: 655 ms\n",
      "Wall time: 698 ms\n"
     ]
    }
   ],
   "source": [
    "%%time\n",
    "gdf_cust_transactions['rolling_average'] = gdf_cust_transactions[\n",
    "gdf_cust_transactions['EXP_TYPE'\n",
    "] == 'Entertainment'].groupby(\n",
    "    'CUST_ID')[\n",
    "'AMOUNT'].rolling(window=90).mean().reset_index(\n",
    "    level=0, drop=True)"
   ]
  },
  {
   "cell_type": "code",
   "execution_count": 46,
   "id": "b52d7efc-a579-4e41-a91f-7fb037bbb6c3",
   "metadata": {},
   "outputs": [
    {
     "data": {
      "text/plain": [
       "0                  <NA>\n",
       "1                  <NA>\n",
       "2                  <NA>\n",
       "3                  <NA>\n",
       "4                  <NA>\n",
       "               ...     \n",
       "65492424    25.62777778\n",
       "65492425           <NA>\n",
       "65492426           <NA>\n",
       "65492427           <NA>\n",
       "65492428    71.70266667\n",
       "Name: rolling_average, Length: 65492429, dtype: float64"
      ]
     },
     "execution_count": 46,
     "metadata": {},
     "output_type": "execute_result"
    }
   ],
   "source": [
    "gdf_cust_transactions['rolling_average']"
   ]
  },
  {
   "cell_type": "markdown",
   "id": "15055e0c-78ee-4be2-98d9-e58feaeb16a9",
   "metadata": {},
   "source": [
    "# Missing Data interpolation"
   ]
  },
  {
   "cell_type": "code",
   "execution_count": 71,
   "id": "e1557fc2-1914-4cff-ab31-a1ed46d41503",
   "metadata": {},
   "outputs": [
    {
     "name": "stdout",
     "output_type": "stream",
     "text": [
      "CPU times: user 14.7 ms, sys: 31.9 ms, total: 46.6 ms\n",
      "Wall time: 43.7 ms\n"
     ]
    }
   ],
   "source": [
    "%%time\n",
    "\n",
    "gdf_cust_transactions['AMOUNT'] = gdf_cust_transactions['AMOUNT'].interpolate(method='linear')"
   ]
  },
  {
   "cell_type": "code",
   "execution_count": null,
   "id": "ce86bcd3-0a47-4048-8184-ba7953f0f6cb",
   "metadata": {},
   "outputs": [],
   "source": []
  }
 ],
 "metadata": {
  "kernelspec": {
   "display_name": "Python 3 (ipykernel)",
   "language": "python",
   "name": "python3"
  },
  "language_info": {
   "codemirror_mode": {
    "name": "ipython",
    "version": 3
   },
   "file_extension": ".py",
   "mimetype": "text/x-python",
   "name": "python",
   "nbconvert_exporter": "python",
   "pygments_lexer": "ipython3",
   "version": "3.11.9"
  }
 },
 "nbformat": 4,
 "nbformat_minor": 5
}
